{
 "cells": [
  {
   "cell_type": "code",
   "execution_count": 2,
   "metadata": {
    "executionInfo": {
     "elapsed": 1912,
     "status": "ok",
     "timestamp": 1681804851565,
     "user": {
      "displayName": "felix mutai",
      "userId": "06332458957494140194"
     },
     "user_tz": -180
    },
    "id": "X9avKIm_Xr9V"
   },
   "outputs": [],
   "source": [
    "#import the libraries\n",
    "import numpy as np\n",
    "import pandas as pd\n",
    "import matplotlib.pyplot as plt\n",
    "import seaborn as sns\n",
    "import plotly.express as px\n",
    "\n",
    "# machine learning and math\n",
    "import math\n",
    "\n",
    "from scipy import stats\n",
    "from scipy.stats import pearsonr, kendalltau, normaltest\n",
    "\n",
    "from sklearn.preprocessing import StandardScaler\n",
    "from sklearn.model_selection import train_test_split\n",
    "from sklearn.metrics import classification_report, accuracy_score, f1_score, precision_score\n",
    "from sklearn.feature_selection import mutual_info_classif\n",
    "from sklearn.feature_selection import SelectKBest\n",
    "\n",
    "from lightgbm import LGBMClassifier\n",
    "from sklearn.ensemble import RandomForestClassifier\n",
    "from sklearn.linear_model import LogisticRegression\n"
   ]
  },
  {
   "cell_type": "code",
   "execution_count": 3,
   "metadata": {
    "colab": {
     "base_uri": "https://localhost:8080/"
    },
    "executionInfo": {
     "elapsed": 28068,
     "status": "ok",
     "timestamp": 1681804947304,
     "user": {
      "displayName": "felix mutai",
      "userId": "06332458957494140194"
     },
     "user_tz": -180
    },
    "id": "fj8RZDQtYYMZ",
    "outputId": "45ae2010-faba-4e20-b48d-d2bc97864c11"
   },
   "outputs": [
    {
     "name": "stdout",
     "output_type": "stream",
     "text": [
      "Mounted at /content/drive\n"
     ]
    }
   ],
   "source": [
    "from google.colab import drive\n",
    "drive.mount('/content/drive')"
   ]
  },
  {
   "cell_type": "code",
   "execution_count": 4,
   "metadata": {
    "executionInfo": {
     "elapsed": 1189,
     "status": "ok",
     "timestamp": 1681805176968,
     "user": {
      "displayName": "felix mutai",
      "userId": "06332458957494140194"
     },
     "user_tz": -180
    },
    "id": "Lrt-che1YYX3"
   },
   "outputs": [],
   "source": [
    "#importing the data\n",
    "training_data = pd.read_csv('/content/drive/MyDrive/Train.csv')\n",
    "testing_data = pd.read_csv('/content/drive/MyDrive/Test.csv')\n",
    "sample_submission = pd.read_csv('/content/drive/MyDrive/SampleSubmission.csv')"
   ]
  },
  {
   "cell_type": "code",
   "execution_count": 5,
   "metadata": {
    "colab": {
     "base_uri": "https://localhost:8080/",
     "height": 374
    },
    "executionInfo": {
     "elapsed": 8,
     "status": "ok",
     "timestamp": 1681805198798,
     "user": {
      "displayName": "felix mutai",
      "userId": "06332458957494140194"
     },
     "user_tz": -180
    },
    "id": "VscuYv49YvoH",
    "outputId": "6012b5b3-d165-4bbb-8fc8-1e85f17cbde8"
   },
   "outputs": [
    {
     "data": {
      "text/html": [
       "\n",
       "  <div id=\"df-3ba79e21-9e61-4c8c-8993-5dd2ef6fffd8\">\n",
       "    <div class=\"colab-df-container\">\n",
       "      <div>\n",
       "<style scoped>\n",
       "    .dataframe tbody tr th:only-of-type {\n",
       "        vertical-align: middle;\n",
       "    }\n",
       "\n",
       "    .dataframe tbody tr th {\n",
       "        vertical-align: top;\n",
       "    }\n",
       "\n",
       "    .dataframe thead th {\n",
       "        text-align: right;\n",
       "    }\n",
       "</style>\n",
       "<table border=\"1\" class=\"dataframe\">\n",
       "  <thead>\n",
       "    <tr style=\"text-align: right;\">\n",
       "      <th></th>\n",
       "      <th>country</th>\n",
       "      <th>year</th>\n",
       "      <th>uniqueid</th>\n",
       "      <th>bank_account</th>\n",
       "      <th>location_type</th>\n",
       "      <th>cellphone_access</th>\n",
       "      <th>household_size</th>\n",
       "      <th>age_of_respondent</th>\n",
       "      <th>gender_of_respondent</th>\n",
       "      <th>relationship_with_head</th>\n",
       "      <th>marital_status</th>\n",
       "      <th>education_level</th>\n",
       "      <th>job_type</th>\n",
       "    </tr>\n",
       "  </thead>\n",
       "  <tbody>\n",
       "    <tr>\n",
       "      <th>0</th>\n",
       "      <td>Kenya</td>\n",
       "      <td>2018</td>\n",
       "      <td>uniqueid_1</td>\n",
       "      <td>Yes</td>\n",
       "      <td>Rural</td>\n",
       "      <td>Yes</td>\n",
       "      <td>3</td>\n",
       "      <td>24</td>\n",
       "      <td>Female</td>\n",
       "      <td>Spouse</td>\n",
       "      <td>Married/Living together</td>\n",
       "      <td>Secondary education</td>\n",
       "      <td>Self employed</td>\n",
       "    </tr>\n",
       "    <tr>\n",
       "      <th>1</th>\n",
       "      <td>Kenya</td>\n",
       "      <td>2018</td>\n",
       "      <td>uniqueid_2</td>\n",
       "      <td>No</td>\n",
       "      <td>Rural</td>\n",
       "      <td>No</td>\n",
       "      <td>5</td>\n",
       "      <td>70</td>\n",
       "      <td>Female</td>\n",
       "      <td>Head of Household</td>\n",
       "      <td>Widowed</td>\n",
       "      <td>No formal education</td>\n",
       "      <td>Government Dependent</td>\n",
       "    </tr>\n",
       "    <tr>\n",
       "      <th>2</th>\n",
       "      <td>Kenya</td>\n",
       "      <td>2018</td>\n",
       "      <td>uniqueid_3</td>\n",
       "      <td>Yes</td>\n",
       "      <td>Urban</td>\n",
       "      <td>Yes</td>\n",
       "      <td>5</td>\n",
       "      <td>26</td>\n",
       "      <td>Male</td>\n",
       "      <td>Other relative</td>\n",
       "      <td>Single/Never Married</td>\n",
       "      <td>Vocational/Specialised training</td>\n",
       "      <td>Self employed</td>\n",
       "    </tr>\n",
       "    <tr>\n",
       "      <th>3</th>\n",
       "      <td>Kenya</td>\n",
       "      <td>2018</td>\n",
       "      <td>uniqueid_4</td>\n",
       "      <td>No</td>\n",
       "      <td>Rural</td>\n",
       "      <td>Yes</td>\n",
       "      <td>5</td>\n",
       "      <td>34</td>\n",
       "      <td>Female</td>\n",
       "      <td>Head of Household</td>\n",
       "      <td>Married/Living together</td>\n",
       "      <td>Primary education</td>\n",
       "      <td>Formally employed Private</td>\n",
       "    </tr>\n",
       "    <tr>\n",
       "      <th>4</th>\n",
       "      <td>Kenya</td>\n",
       "      <td>2018</td>\n",
       "      <td>uniqueid_5</td>\n",
       "      <td>No</td>\n",
       "      <td>Urban</td>\n",
       "      <td>No</td>\n",
       "      <td>8</td>\n",
       "      <td>26</td>\n",
       "      <td>Male</td>\n",
       "      <td>Child</td>\n",
       "      <td>Single/Never Married</td>\n",
       "      <td>Primary education</td>\n",
       "      <td>Informally employed</td>\n",
       "    </tr>\n",
       "  </tbody>\n",
       "</table>\n",
       "</div>\n",
       "      <button class=\"colab-df-convert\" onclick=\"convertToInteractive('df-3ba79e21-9e61-4c8c-8993-5dd2ef6fffd8')\"\n",
       "              title=\"Convert this dataframe to an interactive table.\"\n",
       "              style=\"display:none;\">\n",
       "        \n",
       "  <svg xmlns=\"http://www.w3.org/2000/svg\" height=\"24px\"viewBox=\"0 0 24 24\"\n",
       "       width=\"24px\">\n",
       "    <path d=\"M0 0h24v24H0V0z\" fill=\"none\"/>\n",
       "    <path d=\"M18.56 5.44l.94 2.06.94-2.06 2.06-.94-2.06-.94-.94-2.06-.94 2.06-2.06.94zm-11 1L8.5 8.5l.94-2.06 2.06-.94-2.06-.94L8.5 2.5l-.94 2.06-2.06.94zm10 10l.94 2.06.94-2.06 2.06-.94-2.06-.94-.94-2.06-.94 2.06-2.06.94z\"/><path d=\"M17.41 7.96l-1.37-1.37c-.4-.4-.92-.59-1.43-.59-.52 0-1.04.2-1.43.59L10.3 9.45l-7.72 7.72c-.78.78-.78 2.05 0 2.83L4 21.41c.39.39.9.59 1.41.59.51 0 1.02-.2 1.41-.59l7.78-7.78 2.81-2.81c.8-.78.8-2.07 0-2.86zM5.41 20L4 18.59l7.72-7.72 1.47 1.35L5.41 20z\"/>\n",
       "  </svg>\n",
       "      </button>\n",
       "      \n",
       "  <style>\n",
       "    .colab-df-container {\n",
       "      display:flex;\n",
       "      flex-wrap:wrap;\n",
       "      gap: 12px;\n",
       "    }\n",
       "\n",
       "    .colab-df-convert {\n",
       "      background-color: #E8F0FE;\n",
       "      border: none;\n",
       "      border-radius: 50%;\n",
       "      cursor: pointer;\n",
       "      display: none;\n",
       "      fill: #1967D2;\n",
       "      height: 32px;\n",
       "      padding: 0 0 0 0;\n",
       "      width: 32px;\n",
       "    }\n",
       "\n",
       "    .colab-df-convert:hover {\n",
       "      background-color: #E2EBFA;\n",
       "      box-shadow: 0px 1px 2px rgba(60, 64, 67, 0.3), 0px 1px 3px 1px rgba(60, 64, 67, 0.15);\n",
       "      fill: #174EA6;\n",
       "    }\n",
       "\n",
       "    [theme=dark] .colab-df-convert {\n",
       "      background-color: #3B4455;\n",
       "      fill: #D2E3FC;\n",
       "    }\n",
       "\n",
       "    [theme=dark] .colab-df-convert:hover {\n",
       "      background-color: #434B5C;\n",
       "      box-shadow: 0px 1px 3px 1px rgba(0, 0, 0, 0.15);\n",
       "      filter: drop-shadow(0px 1px 2px rgba(0, 0, 0, 0.3));\n",
       "      fill: #FFFFFF;\n",
       "    }\n",
       "  </style>\n",
       "\n",
       "      <script>\n",
       "        const buttonEl =\n",
       "          document.querySelector('#df-3ba79e21-9e61-4c8c-8993-5dd2ef6fffd8 button.colab-df-convert');\n",
       "        buttonEl.style.display =\n",
       "          google.colab.kernel.accessAllowed ? 'block' : 'none';\n",
       "\n",
       "        async function convertToInteractive(key) {\n",
       "          const element = document.querySelector('#df-3ba79e21-9e61-4c8c-8993-5dd2ef6fffd8');\n",
       "          const dataTable =\n",
       "            await google.colab.kernel.invokeFunction('convertToInteractive',\n",
       "                                                     [key], {});\n",
       "          if (!dataTable) return;\n",
       "\n",
       "          const docLinkHtml = 'Like what you see? Visit the ' +\n",
       "            '<a target=\"_blank\" href=https://colab.research.google.com/notebooks/data_table.ipynb>data table notebook</a>'\n",
       "            + ' to learn more about interactive tables.';\n",
       "          element.innerHTML = '';\n",
       "          dataTable['output_type'] = 'display_data';\n",
       "          await google.colab.output.renderOutput(dataTable, element);\n",
       "          const docLink = document.createElement('div');\n",
       "          docLink.innerHTML = docLinkHtml;\n",
       "          element.appendChild(docLink);\n",
       "        }\n",
       "      </script>\n",
       "    </div>\n",
       "  </div>\n",
       "  "
      ],
      "text/plain": [
       "  country  year    uniqueid bank_account location_type cellphone_access  \\\n",
       "0   Kenya  2018  uniqueid_1          Yes         Rural              Yes   \n",
       "1   Kenya  2018  uniqueid_2           No         Rural               No   \n",
       "2   Kenya  2018  uniqueid_3          Yes         Urban              Yes   \n",
       "3   Kenya  2018  uniqueid_4           No         Rural              Yes   \n",
       "4   Kenya  2018  uniqueid_5           No         Urban               No   \n",
       "\n",
       "   household_size  age_of_respondent gender_of_respondent  \\\n",
       "0               3                 24               Female   \n",
       "1               5                 70               Female   \n",
       "2               5                 26                 Male   \n",
       "3               5                 34               Female   \n",
       "4               8                 26                 Male   \n",
       "\n",
       "  relationship_with_head           marital_status  \\\n",
       "0                 Spouse  Married/Living together   \n",
       "1      Head of Household                  Widowed   \n",
       "2         Other relative     Single/Never Married   \n",
       "3      Head of Household  Married/Living together   \n",
       "4                  Child     Single/Never Married   \n",
       "\n",
       "                   education_level                   job_type  \n",
       "0              Secondary education              Self employed  \n",
       "1              No formal education       Government Dependent  \n",
       "2  Vocational/Specialised training              Self employed  \n",
       "3                Primary education  Formally employed Private  \n",
       "4                Primary education        Informally employed  "
      ]
     },
     "execution_count": 5,
     "metadata": {},
     "output_type": "execute_result"
    }
   ],
   "source": [
    "training_data.head()"
   ]
  },
  {
   "cell_type": "code",
   "execution_count": 6,
   "metadata": {
    "colab": {
     "base_uri": "https://localhost:8080/",
     "height": 392
    },
    "executionInfo": {
     "elapsed": 105,
     "status": "ok",
     "timestamp": 1681805257776,
     "user": {
      "displayName": "felix mutai",
      "userId": "06332458957494140194"
     },
     "user_tz": -180
    },
    "id": "ERiTdgK6YvvF",
    "outputId": "320d426b-d83c-4bd8-af87-5f855b56a37d"
   },
   "outputs": [
    {
     "data": {
      "text/html": [
       "\n",
       "  <div id=\"df-23b95a76-a914-43a6-93dc-52cc0c7f1f6c\">\n",
       "    <div class=\"colab-df-container\">\n",
       "      <div>\n",
       "<style scoped>\n",
       "    .dataframe tbody tr th:only-of-type {\n",
       "        vertical-align: middle;\n",
       "    }\n",
       "\n",
       "    .dataframe tbody tr th {\n",
       "        vertical-align: top;\n",
       "    }\n",
       "\n",
       "    .dataframe thead th {\n",
       "        text-align: right;\n",
       "    }\n",
       "</style>\n",
       "<table border=\"1\" class=\"dataframe\">\n",
       "  <thead>\n",
       "    <tr style=\"text-align: right;\">\n",
       "      <th></th>\n",
       "      <th>country</th>\n",
       "      <th>year</th>\n",
       "      <th>uniqueid</th>\n",
       "      <th>location_type</th>\n",
       "      <th>cellphone_access</th>\n",
       "      <th>household_size</th>\n",
       "      <th>age_of_respondent</th>\n",
       "      <th>gender_of_respondent</th>\n",
       "      <th>relationship_with_head</th>\n",
       "      <th>marital_status</th>\n",
       "      <th>education_level</th>\n",
       "      <th>job_type</th>\n",
       "    </tr>\n",
       "  </thead>\n",
       "  <tbody>\n",
       "    <tr>\n",
       "      <th>0</th>\n",
       "      <td>Kenya</td>\n",
       "      <td>2018</td>\n",
       "      <td>uniqueid_6056</td>\n",
       "      <td>Urban</td>\n",
       "      <td>Yes</td>\n",
       "      <td>3</td>\n",
       "      <td>30</td>\n",
       "      <td>Male</td>\n",
       "      <td>Head of Household</td>\n",
       "      <td>Married/Living together</td>\n",
       "      <td>Secondary education</td>\n",
       "      <td>Formally employed Government</td>\n",
       "    </tr>\n",
       "    <tr>\n",
       "      <th>1</th>\n",
       "      <td>Kenya</td>\n",
       "      <td>2018</td>\n",
       "      <td>uniqueid_6060</td>\n",
       "      <td>Urban</td>\n",
       "      <td>Yes</td>\n",
       "      <td>7</td>\n",
       "      <td>51</td>\n",
       "      <td>Male</td>\n",
       "      <td>Head of Household</td>\n",
       "      <td>Married/Living together</td>\n",
       "      <td>Vocational/Specialised training</td>\n",
       "      <td>Formally employed Private</td>\n",
       "    </tr>\n",
       "    <tr>\n",
       "      <th>2</th>\n",
       "      <td>Kenya</td>\n",
       "      <td>2018</td>\n",
       "      <td>uniqueid_6065</td>\n",
       "      <td>Rural</td>\n",
       "      <td>No</td>\n",
       "      <td>3</td>\n",
       "      <td>77</td>\n",
       "      <td>Female</td>\n",
       "      <td>Parent</td>\n",
       "      <td>Married/Living together</td>\n",
       "      <td>No formal education</td>\n",
       "      <td>Remittance Dependent</td>\n",
       "    </tr>\n",
       "    <tr>\n",
       "      <th>3</th>\n",
       "      <td>Kenya</td>\n",
       "      <td>2018</td>\n",
       "      <td>uniqueid_6072</td>\n",
       "      <td>Rural</td>\n",
       "      <td>No</td>\n",
       "      <td>6</td>\n",
       "      <td>39</td>\n",
       "      <td>Female</td>\n",
       "      <td>Head of Household</td>\n",
       "      <td>Married/Living together</td>\n",
       "      <td>Primary education</td>\n",
       "      <td>Remittance Dependent</td>\n",
       "    </tr>\n",
       "    <tr>\n",
       "      <th>4</th>\n",
       "      <td>Kenya</td>\n",
       "      <td>2018</td>\n",
       "      <td>uniqueid_6073</td>\n",
       "      <td>Urban</td>\n",
       "      <td>No</td>\n",
       "      <td>3</td>\n",
       "      <td>16</td>\n",
       "      <td>Male</td>\n",
       "      <td>Child</td>\n",
       "      <td>Single/Never Married</td>\n",
       "      <td>Secondary education</td>\n",
       "      <td>Remittance Dependent</td>\n",
       "    </tr>\n",
       "  </tbody>\n",
       "</table>\n",
       "</div>\n",
       "      <button class=\"colab-df-convert\" onclick=\"convertToInteractive('df-23b95a76-a914-43a6-93dc-52cc0c7f1f6c')\"\n",
       "              title=\"Convert this dataframe to an interactive table.\"\n",
       "              style=\"display:none;\">\n",
       "        \n",
       "  <svg xmlns=\"http://www.w3.org/2000/svg\" height=\"24px\"viewBox=\"0 0 24 24\"\n",
       "       width=\"24px\">\n",
       "    <path d=\"M0 0h24v24H0V0z\" fill=\"none\"/>\n",
       "    <path d=\"M18.56 5.44l.94 2.06.94-2.06 2.06-.94-2.06-.94-.94-2.06-.94 2.06-2.06.94zm-11 1L8.5 8.5l.94-2.06 2.06-.94-2.06-.94L8.5 2.5l-.94 2.06-2.06.94zm10 10l.94 2.06.94-2.06 2.06-.94-2.06-.94-.94-2.06-.94 2.06-2.06.94z\"/><path d=\"M17.41 7.96l-1.37-1.37c-.4-.4-.92-.59-1.43-.59-.52 0-1.04.2-1.43.59L10.3 9.45l-7.72 7.72c-.78.78-.78 2.05 0 2.83L4 21.41c.39.39.9.59 1.41.59.51 0 1.02-.2 1.41-.59l7.78-7.78 2.81-2.81c.8-.78.8-2.07 0-2.86zM5.41 20L4 18.59l7.72-7.72 1.47 1.35L5.41 20z\"/>\n",
       "  </svg>\n",
       "      </button>\n",
       "      \n",
       "  <style>\n",
       "    .colab-df-container {\n",
       "      display:flex;\n",
       "      flex-wrap:wrap;\n",
       "      gap: 12px;\n",
       "    }\n",
       "\n",
       "    .colab-df-convert {\n",
       "      background-color: #E8F0FE;\n",
       "      border: none;\n",
       "      border-radius: 50%;\n",
       "      cursor: pointer;\n",
       "      display: none;\n",
       "      fill: #1967D2;\n",
       "      height: 32px;\n",
       "      padding: 0 0 0 0;\n",
       "      width: 32px;\n",
       "    }\n",
       "\n",
       "    .colab-df-convert:hover {\n",
       "      background-color: #E2EBFA;\n",
       "      box-shadow: 0px 1px 2px rgba(60, 64, 67, 0.3), 0px 1px 3px 1px rgba(60, 64, 67, 0.15);\n",
       "      fill: #174EA6;\n",
       "    }\n",
       "\n",
       "    [theme=dark] .colab-df-convert {\n",
       "      background-color: #3B4455;\n",
       "      fill: #D2E3FC;\n",
       "    }\n",
       "\n",
       "    [theme=dark] .colab-df-convert:hover {\n",
       "      background-color: #434B5C;\n",
       "      box-shadow: 0px 1px 3px 1px rgba(0, 0, 0, 0.15);\n",
       "      filter: drop-shadow(0px 1px 2px rgba(0, 0, 0, 0.3));\n",
       "      fill: #FFFFFF;\n",
       "    }\n",
       "  </style>\n",
       "\n",
       "      <script>\n",
       "        const buttonEl =\n",
       "          document.querySelector('#df-23b95a76-a914-43a6-93dc-52cc0c7f1f6c button.colab-df-convert');\n",
       "        buttonEl.style.display =\n",
       "          google.colab.kernel.accessAllowed ? 'block' : 'none';\n",
       "\n",
       "        async function convertToInteractive(key) {\n",
       "          const element = document.querySelector('#df-23b95a76-a914-43a6-93dc-52cc0c7f1f6c');\n",
       "          const dataTable =\n",
       "            await google.colab.kernel.invokeFunction('convertToInteractive',\n",
       "                                                     [key], {});\n",
       "          if (!dataTable) return;\n",
       "\n",
       "          const docLinkHtml = 'Like what you see? Visit the ' +\n",
       "            '<a target=\"_blank\" href=https://colab.research.google.com/notebooks/data_table.ipynb>data table notebook</a>'\n",
       "            + ' to learn more about interactive tables.';\n",
       "          element.innerHTML = '';\n",
       "          dataTable['output_type'] = 'display_data';\n",
       "          await google.colab.output.renderOutput(dataTable, element);\n",
       "          const docLink = document.createElement('div');\n",
       "          docLink.innerHTML = docLinkHtml;\n",
       "          element.appendChild(docLink);\n",
       "        }\n",
       "      </script>\n",
       "    </div>\n",
       "  </div>\n",
       "  "
      ],
      "text/plain": [
       "  country  year       uniqueid location_type cellphone_access  household_size  \\\n",
       "0   Kenya  2018  uniqueid_6056         Urban              Yes               3   \n",
       "1   Kenya  2018  uniqueid_6060         Urban              Yes               7   \n",
       "2   Kenya  2018  uniqueid_6065         Rural               No               3   \n",
       "3   Kenya  2018  uniqueid_6072         Rural               No               6   \n",
       "4   Kenya  2018  uniqueid_6073         Urban               No               3   \n",
       "\n",
       "   age_of_respondent gender_of_respondent relationship_with_head  \\\n",
       "0                 30                 Male      Head of Household   \n",
       "1                 51                 Male      Head of Household   \n",
       "2                 77               Female                 Parent   \n",
       "3                 39               Female      Head of Household   \n",
       "4                 16                 Male                  Child   \n",
       "\n",
       "            marital_status                  education_level  \\\n",
       "0  Married/Living together              Secondary education   \n",
       "1  Married/Living together  Vocational/Specialised training   \n",
       "2  Married/Living together              No formal education   \n",
       "3  Married/Living together                Primary education   \n",
       "4     Single/Never Married              Secondary education   \n",
       "\n",
       "                       job_type  \n",
       "0  Formally employed Government  \n",
       "1     Formally employed Private  \n",
       "2          Remittance Dependent  \n",
       "3          Remittance Dependent  \n",
       "4          Remittance Dependent  "
      ]
     },
     "execution_count": 6,
     "metadata": {},
     "output_type": "execute_result"
    }
   ],
   "source": [
    "testing_data.head()"
   ]
  },
  {
   "cell_type": "code",
   "execution_count": 7,
   "metadata": {
    "colab": {
     "base_uri": "https://localhost:8080/",
     "height": 206
    },
    "executionInfo": {
     "elapsed": 104,
     "status": "ok",
     "timestamp": 1681805276008,
     "user": {
      "displayName": "felix mutai",
      "userId": "06332458957494140194"
     },
     "user_tz": -180
    },
    "id": "M96yq7E8ZuCR",
    "outputId": "107f3c67-2635-49c2-99e2-228e6ea647ca"
   },
   "outputs": [
    {
     "data": {
      "text/html": [
       "\n",
       "  <div id=\"df-3e07d0f5-f906-404f-8cf4-4879ef111b0d\">\n",
       "    <div class=\"colab-df-container\">\n",
       "      <div>\n",
       "<style scoped>\n",
       "    .dataframe tbody tr th:only-of-type {\n",
       "        vertical-align: middle;\n",
       "    }\n",
       "\n",
       "    .dataframe tbody tr th {\n",
       "        vertical-align: top;\n",
       "    }\n",
       "\n",
       "    .dataframe thead th {\n",
       "        text-align: right;\n",
       "    }\n",
       "</style>\n",
       "<table border=\"1\" class=\"dataframe\">\n",
       "  <thead>\n",
       "    <tr style=\"text-align: right;\">\n",
       "      <th></th>\n",
       "      <th>unique_id</th>\n",
       "      <th>bank_account</th>\n",
       "    </tr>\n",
       "  </thead>\n",
       "  <tbody>\n",
       "    <tr>\n",
       "      <th>0</th>\n",
       "      <td>uniqueid_1 x Kenya</td>\n",
       "      <td>0</td>\n",
       "    </tr>\n",
       "    <tr>\n",
       "      <th>1</th>\n",
       "      <td>uniqueid_2 x Kenya</td>\n",
       "      <td>0</td>\n",
       "    </tr>\n",
       "    <tr>\n",
       "      <th>2</th>\n",
       "      <td>uniqueid_3 x Kenya</td>\n",
       "      <td>0</td>\n",
       "    </tr>\n",
       "    <tr>\n",
       "      <th>3</th>\n",
       "      <td>uniqueid_4 x Kenya</td>\n",
       "      <td>0</td>\n",
       "    </tr>\n",
       "    <tr>\n",
       "      <th>4</th>\n",
       "      <td>uniqueid_5 x Kenya</td>\n",
       "      <td>0</td>\n",
       "    </tr>\n",
       "  </tbody>\n",
       "</table>\n",
       "</div>\n",
       "      <button class=\"colab-df-convert\" onclick=\"convertToInteractive('df-3e07d0f5-f906-404f-8cf4-4879ef111b0d')\"\n",
       "              title=\"Convert this dataframe to an interactive table.\"\n",
       "              style=\"display:none;\">\n",
       "        \n",
       "  <svg xmlns=\"http://www.w3.org/2000/svg\" height=\"24px\"viewBox=\"0 0 24 24\"\n",
       "       width=\"24px\">\n",
       "    <path d=\"M0 0h24v24H0V0z\" fill=\"none\"/>\n",
       "    <path d=\"M18.56 5.44l.94 2.06.94-2.06 2.06-.94-2.06-.94-.94-2.06-.94 2.06-2.06.94zm-11 1L8.5 8.5l.94-2.06 2.06-.94-2.06-.94L8.5 2.5l-.94 2.06-2.06.94zm10 10l.94 2.06.94-2.06 2.06-.94-2.06-.94-.94-2.06-.94 2.06-2.06.94z\"/><path d=\"M17.41 7.96l-1.37-1.37c-.4-.4-.92-.59-1.43-.59-.52 0-1.04.2-1.43.59L10.3 9.45l-7.72 7.72c-.78.78-.78 2.05 0 2.83L4 21.41c.39.39.9.59 1.41.59.51 0 1.02-.2 1.41-.59l7.78-7.78 2.81-2.81c.8-.78.8-2.07 0-2.86zM5.41 20L4 18.59l7.72-7.72 1.47 1.35L5.41 20z\"/>\n",
       "  </svg>\n",
       "      </button>\n",
       "      \n",
       "  <style>\n",
       "    .colab-df-container {\n",
       "      display:flex;\n",
       "      flex-wrap:wrap;\n",
       "      gap: 12px;\n",
       "    }\n",
       "\n",
       "    .colab-df-convert {\n",
       "      background-color: #E8F0FE;\n",
       "      border: none;\n",
       "      border-radius: 50%;\n",
       "      cursor: pointer;\n",
       "      display: none;\n",
       "      fill: #1967D2;\n",
       "      height: 32px;\n",
       "      padding: 0 0 0 0;\n",
       "      width: 32px;\n",
       "    }\n",
       "\n",
       "    .colab-df-convert:hover {\n",
       "      background-color: #E2EBFA;\n",
       "      box-shadow: 0px 1px 2px rgba(60, 64, 67, 0.3), 0px 1px 3px 1px rgba(60, 64, 67, 0.15);\n",
       "      fill: #174EA6;\n",
       "    }\n",
       "\n",
       "    [theme=dark] .colab-df-convert {\n",
       "      background-color: #3B4455;\n",
       "      fill: #D2E3FC;\n",
       "    }\n",
       "\n",
       "    [theme=dark] .colab-df-convert:hover {\n",
       "      background-color: #434B5C;\n",
       "      box-shadow: 0px 1px 3px 1px rgba(0, 0, 0, 0.15);\n",
       "      filter: drop-shadow(0px 1px 2px rgba(0, 0, 0, 0.3));\n",
       "      fill: #FFFFFF;\n",
       "    }\n",
       "  </style>\n",
       "\n",
       "      <script>\n",
       "        const buttonEl =\n",
       "          document.querySelector('#df-3e07d0f5-f906-404f-8cf4-4879ef111b0d button.colab-df-convert');\n",
       "        buttonEl.style.display =\n",
       "          google.colab.kernel.accessAllowed ? 'block' : 'none';\n",
       "\n",
       "        async function convertToInteractive(key) {\n",
       "          const element = document.querySelector('#df-3e07d0f5-f906-404f-8cf4-4879ef111b0d');\n",
       "          const dataTable =\n",
       "            await google.colab.kernel.invokeFunction('convertToInteractive',\n",
       "                                                     [key], {});\n",
       "          if (!dataTable) return;\n",
       "\n",
       "          const docLinkHtml = 'Like what you see? Visit the ' +\n",
       "            '<a target=\"_blank\" href=https://colab.research.google.com/notebooks/data_table.ipynb>data table notebook</a>'\n",
       "            + ' to learn more about interactive tables.';\n",
       "          element.innerHTML = '';\n",
       "          dataTable['output_type'] = 'display_data';\n",
       "          await google.colab.output.renderOutput(dataTable, element);\n",
       "          const docLink = document.createElement('div');\n",
       "          docLink.innerHTML = docLinkHtml;\n",
       "          element.appendChild(docLink);\n",
       "        }\n",
       "      </script>\n",
       "    </div>\n",
       "  </div>\n",
       "  "
      ],
      "text/plain": [
       "            unique_id  bank_account\n",
       "0  uniqueid_1 x Kenya             0\n",
       "1  uniqueid_2 x Kenya             0\n",
       "2  uniqueid_3 x Kenya             0\n",
       "3  uniqueid_4 x Kenya             0\n",
       "4  uniqueid_5 x Kenya             0"
      ]
     },
     "execution_count": 7,
     "metadata": {},
     "output_type": "execute_result"
    }
   ],
   "source": [
    "sample_submission.head()"
   ]
  },
  {
   "cell_type": "code",
   "execution_count": 8,
   "metadata": {
    "colab": {
     "base_uri": "https://localhost:8080/"
    },
    "executionInfo": {
     "elapsed": 5,
     "status": "ok",
     "timestamp": 1681805328694,
     "user": {
      "displayName": "felix mutai",
      "userId": "06332458957494140194"
     },
     "user_tz": -180
    },
    "id": "kPqVUAbqZuKf",
    "outputId": "6d0674f2-ae45-4872-aad0-312862157b08"
   },
   "outputs": [
    {
     "name": "stdout",
     "output_type": "stream",
     "text": [
      "<class 'pandas.core.frame.DataFrame'>\n",
      "RangeIndex: 23524 entries, 0 to 23523\n",
      "Data columns (total 13 columns):\n",
      " #   Column                  Non-Null Count  Dtype \n",
      "---  ------                  --------------  ----- \n",
      " 0   country                 23524 non-null  object\n",
      " 1   year                    23524 non-null  int64 \n",
      " 2   uniqueid                23524 non-null  object\n",
      " 3   bank_account            23524 non-null  object\n",
      " 4   location_type           23524 non-null  object\n",
      " 5   cellphone_access        23524 non-null  object\n",
      " 6   household_size          23524 non-null  int64 \n",
      " 7   age_of_respondent       23524 non-null  int64 \n",
      " 8   gender_of_respondent    23524 non-null  object\n",
      " 9   relationship_with_head  23524 non-null  object\n",
      " 10  marital_status          23524 non-null  object\n",
      " 11  education_level         23524 non-null  object\n",
      " 12  job_type                23524 non-null  object\n",
      "dtypes: int64(3), object(10)\n",
      "memory usage: 2.3+ MB\n"
     ]
    }
   ],
   "source": [
    "training_data.info()"
   ]
  },
  {
   "cell_type": "code",
   "execution_count": 11,
   "metadata": {
    "colab": {
     "base_uri": "https://localhost:8080/"
    },
    "executionInfo": {
     "elapsed": 4,
     "status": "ok",
     "timestamp": 1681805395276,
     "user": {
      "displayName": "felix mutai",
      "userId": "06332458957494140194"
     },
     "user_tz": -180
    },
    "id": "hDoyZnrWZuPY",
    "outputId": "67f83e0e-d1c3-4406-978c-f33036875fa9"
   },
   "outputs": [
    {
     "data": {
      "text/plain": [
       "country                   object\n",
       "year                       int64\n",
       "uniqueid                  object\n",
       "bank_account              object\n",
       "location_type             object\n",
       "cellphone_access          object\n",
       "household_size             int64\n",
       "age_of_respondent          int64\n",
       "gender_of_respondent      object\n",
       "relationship_with_head    object\n",
       "marital_status            object\n",
       "education_level           object\n",
       "job_type                  object\n",
       "dtype: object"
      ]
     },
     "execution_count": 11,
     "metadata": {},
     "output_type": "execute_result"
    }
   ],
   "source": [
    "training_data.dtypes"
   ]
  },
  {
   "cell_type": "code",
   "execution_count": 12,
   "metadata": {
    "colab": {
     "base_uri": "https://localhost:8080/",
     "height": 300
    },
    "executionInfo": {
     "elapsed": 98,
     "status": "ok",
     "timestamp": 1681805435255,
     "user": {
      "displayName": "felix mutai",
      "userId": "06332458957494140194"
     },
     "user_tz": -180
    },
    "id": "-FRnHcMMYvzi",
    "outputId": "807db199-a2ba-4c46-b541-6cd71d4cbfe9"
   },
   "outputs": [
    {
     "data": {
      "text/html": [
       "\n",
       "  <div id=\"df-0f3cec7e-50b0-4a8e-b135-b86e9c17c0a5\">\n",
       "    <div class=\"colab-df-container\">\n",
       "      <div>\n",
       "<style scoped>\n",
       "    .dataframe tbody tr th:only-of-type {\n",
       "        vertical-align: middle;\n",
       "    }\n",
       "\n",
       "    .dataframe tbody tr th {\n",
       "        vertical-align: top;\n",
       "    }\n",
       "\n",
       "    .dataframe thead th {\n",
       "        text-align: right;\n",
       "    }\n",
       "</style>\n",
       "<table border=\"1\" class=\"dataframe\">\n",
       "  <thead>\n",
       "    <tr style=\"text-align: right;\">\n",
       "      <th></th>\n",
       "      <th>year</th>\n",
       "      <th>household_size</th>\n",
       "      <th>age_of_respondent</th>\n",
       "    </tr>\n",
       "  </thead>\n",
       "  <tbody>\n",
       "    <tr>\n",
       "      <th>count</th>\n",
       "      <td>23524.000000</td>\n",
       "      <td>23524.000000</td>\n",
       "      <td>23524.000000</td>\n",
       "    </tr>\n",
       "    <tr>\n",
       "      <th>mean</th>\n",
       "      <td>2016.975939</td>\n",
       "      <td>3.797483</td>\n",
       "      <td>38.805220</td>\n",
       "    </tr>\n",
       "    <tr>\n",
       "      <th>std</th>\n",
       "      <td>0.847371</td>\n",
       "      <td>2.227613</td>\n",
       "      <td>16.520569</td>\n",
       "    </tr>\n",
       "    <tr>\n",
       "      <th>min</th>\n",
       "      <td>2016.000000</td>\n",
       "      <td>1.000000</td>\n",
       "      <td>16.000000</td>\n",
       "    </tr>\n",
       "    <tr>\n",
       "      <th>25%</th>\n",
       "      <td>2016.000000</td>\n",
       "      <td>2.000000</td>\n",
       "      <td>26.000000</td>\n",
       "    </tr>\n",
       "    <tr>\n",
       "      <th>50%</th>\n",
       "      <td>2017.000000</td>\n",
       "      <td>3.000000</td>\n",
       "      <td>35.000000</td>\n",
       "    </tr>\n",
       "    <tr>\n",
       "      <th>75%</th>\n",
       "      <td>2018.000000</td>\n",
       "      <td>5.000000</td>\n",
       "      <td>49.000000</td>\n",
       "    </tr>\n",
       "    <tr>\n",
       "      <th>max</th>\n",
       "      <td>2018.000000</td>\n",
       "      <td>21.000000</td>\n",
       "      <td>100.000000</td>\n",
       "    </tr>\n",
       "  </tbody>\n",
       "</table>\n",
       "</div>\n",
       "      <button class=\"colab-df-convert\" onclick=\"convertToInteractive('df-0f3cec7e-50b0-4a8e-b135-b86e9c17c0a5')\"\n",
       "              title=\"Convert this dataframe to an interactive table.\"\n",
       "              style=\"display:none;\">\n",
       "        \n",
       "  <svg xmlns=\"http://www.w3.org/2000/svg\" height=\"24px\"viewBox=\"0 0 24 24\"\n",
       "       width=\"24px\">\n",
       "    <path d=\"M0 0h24v24H0V0z\" fill=\"none\"/>\n",
       "    <path d=\"M18.56 5.44l.94 2.06.94-2.06 2.06-.94-2.06-.94-.94-2.06-.94 2.06-2.06.94zm-11 1L8.5 8.5l.94-2.06 2.06-.94-2.06-.94L8.5 2.5l-.94 2.06-2.06.94zm10 10l.94 2.06.94-2.06 2.06-.94-2.06-.94-.94-2.06-.94 2.06-2.06.94z\"/><path d=\"M17.41 7.96l-1.37-1.37c-.4-.4-.92-.59-1.43-.59-.52 0-1.04.2-1.43.59L10.3 9.45l-7.72 7.72c-.78.78-.78 2.05 0 2.83L4 21.41c.39.39.9.59 1.41.59.51 0 1.02-.2 1.41-.59l7.78-7.78 2.81-2.81c.8-.78.8-2.07 0-2.86zM5.41 20L4 18.59l7.72-7.72 1.47 1.35L5.41 20z\"/>\n",
       "  </svg>\n",
       "      </button>\n",
       "      \n",
       "  <style>\n",
       "    .colab-df-container {\n",
       "      display:flex;\n",
       "      flex-wrap:wrap;\n",
       "      gap: 12px;\n",
       "    }\n",
       "\n",
       "    .colab-df-convert {\n",
       "      background-color: #E8F0FE;\n",
       "      border: none;\n",
       "      border-radius: 50%;\n",
       "      cursor: pointer;\n",
       "      display: none;\n",
       "      fill: #1967D2;\n",
       "      height: 32px;\n",
       "      padding: 0 0 0 0;\n",
       "      width: 32px;\n",
       "    }\n",
       "\n",
       "    .colab-df-convert:hover {\n",
       "      background-color: #E2EBFA;\n",
       "      box-shadow: 0px 1px 2px rgba(60, 64, 67, 0.3), 0px 1px 3px 1px rgba(60, 64, 67, 0.15);\n",
       "      fill: #174EA6;\n",
       "    }\n",
       "\n",
       "    [theme=dark] .colab-df-convert {\n",
       "      background-color: #3B4455;\n",
       "      fill: #D2E3FC;\n",
       "    }\n",
       "\n",
       "    [theme=dark] .colab-df-convert:hover {\n",
       "      background-color: #434B5C;\n",
       "      box-shadow: 0px 1px 3px 1px rgba(0, 0, 0, 0.15);\n",
       "      filter: drop-shadow(0px 1px 2px rgba(0, 0, 0, 0.3));\n",
       "      fill: #FFFFFF;\n",
       "    }\n",
       "  </style>\n",
       "\n",
       "      <script>\n",
       "        const buttonEl =\n",
       "          document.querySelector('#df-0f3cec7e-50b0-4a8e-b135-b86e9c17c0a5 button.colab-df-convert');\n",
       "        buttonEl.style.display =\n",
       "          google.colab.kernel.accessAllowed ? 'block' : 'none';\n",
       "\n",
       "        async function convertToInteractive(key) {\n",
       "          const element = document.querySelector('#df-0f3cec7e-50b0-4a8e-b135-b86e9c17c0a5');\n",
       "          const dataTable =\n",
       "            await google.colab.kernel.invokeFunction('convertToInteractive',\n",
       "                                                     [key], {});\n",
       "          if (!dataTable) return;\n",
       "\n",
       "          const docLinkHtml = 'Like what you see? Visit the ' +\n",
       "            '<a target=\"_blank\" href=https://colab.research.google.com/notebooks/data_table.ipynb>data table notebook</a>'\n",
       "            + ' to learn more about interactive tables.';\n",
       "          element.innerHTML = '';\n",
       "          dataTable['output_type'] = 'display_data';\n",
       "          await google.colab.output.renderOutput(dataTable, element);\n",
       "          const docLink = document.createElement('div');\n",
       "          docLink.innerHTML = docLinkHtml;\n",
       "          element.appendChild(docLink);\n",
       "        }\n",
       "      </script>\n",
       "    </div>\n",
       "  </div>\n",
       "  "
      ],
      "text/plain": [
       "               year  household_size  age_of_respondent\n",
       "count  23524.000000    23524.000000       23524.000000\n",
       "mean    2016.975939        3.797483          38.805220\n",
       "std        0.847371        2.227613          16.520569\n",
       "min     2016.000000        1.000000          16.000000\n",
       "25%     2016.000000        2.000000          26.000000\n",
       "50%     2017.000000        3.000000          35.000000\n",
       "75%     2018.000000        5.000000          49.000000\n",
       "max     2018.000000       21.000000         100.000000"
      ]
     },
     "execution_count": 12,
     "metadata": {},
     "output_type": "execute_result"
    }
   ],
   "source": [
    "training_data.describe()"
   ]
  },
  {
   "cell_type": "code",
   "execution_count": 15,
   "metadata": {
    "colab": {
     "base_uri": "https://localhost:8080/"
    },
    "executionInfo": {
     "elapsed": 5,
     "status": "ok",
     "timestamp": 1681805511821,
     "user": {
      "displayName": "felix mutai",
      "userId": "06332458957494140194"
     },
     "user_tz": -180
    },
    "id": "Gw8OA8Brad5F",
    "outputId": "01f79bfa-ac69-4baa-ad3f-4ac4440d38a6"
   },
   "outputs": [
    {
     "data": {
      "text/plain": [
       "country                   0\n",
       "year                      0\n",
       "uniqueid                  0\n",
       "bank_account              0\n",
       "location_type             0\n",
       "cellphone_access          0\n",
       "household_size            0\n",
       "age_of_respondent         0\n",
       "gender_of_respondent      0\n",
       "relationship_with_head    0\n",
       "marital_status            0\n",
       "education_level           0\n",
       "job_type                  0\n",
       "dtype: int64"
      ]
     },
     "execution_count": 15,
     "metadata": {},
     "output_type": "execute_result"
    }
   ],
   "source": [
    "#checking null values\n",
    "training_data.isna().sum()"
   ]
  },
  {
   "cell_type": "code",
   "execution_count": 16,
   "metadata": {
    "colab": {
     "base_uri": "https://localhost:8080/"
    },
    "executionInfo": {
     "elapsed": 399,
     "status": "ok",
     "timestamp": 1681805548471,
     "user": {
      "displayName": "felix mutai",
      "userId": "06332458957494140194"
     },
     "user_tz": -180
    },
    "id": "hfsqzOGeaeAy",
    "outputId": "1ac744e6-2200-4a8f-d765-7058e425c0bc"
   },
   "outputs": [
    {
     "data": {
      "text/plain": [
       "country                   0\n",
       "year                      0\n",
       "uniqueid                  0\n",
       "location_type             0\n",
       "cellphone_access          0\n",
       "household_size            0\n",
       "age_of_respondent         0\n",
       "gender_of_respondent      0\n",
       "relationship_with_head    0\n",
       "marital_status            0\n",
       "education_level           0\n",
       "job_type                  0\n",
       "dtype: int64"
      ]
     },
     "execution_count": 16,
     "metadata": {},
     "output_type": "execute_result"
    }
   ],
   "source": [
    "#checking null values\n",
    "testing_data.isna().sum()"
   ]
  },
  {
   "cell_type": "code",
   "execution_count": 18,
   "metadata": {
    "colab": {
     "base_uri": "https://localhost:8080/"
    },
    "executionInfo": {
     "elapsed": 6,
     "status": "ok",
     "timestamp": 1681805801462,
     "user": {
      "displayName": "felix mutai",
      "userId": "06332458957494140194"
     },
     "user_tz": -180
    },
    "id": "Vct60VNtb6_J",
    "outputId": "ce00172d-ff72-496e-9d80-49e7892742f7"
   },
   "outputs": [
    {
     "data": {
      "text/plain": [
       "No     20212\n",
       "Yes     3312\n",
       "Name: bank_account, dtype: int64"
      ]
     },
     "execution_count": 18,
     "metadata": {},
     "output_type": "execute_result"
    }
   ],
   "source": [
    "training_data['bank_account'].value_counts()"
   ]
  },
  {
   "cell_type": "code",
   "execution_count": 17,
   "metadata": {
    "colab": {
     "base_uri": "https://localhost:8080/",
     "height": 455
    },
    "executionInfo": {
     "elapsed": 101,
     "status": "ok",
     "timestamp": 1681805752294,
     "user": {
      "displayName": "felix mutai",
      "userId": "06332458957494140194"
     },
     "user_tz": -180
    },
    "id": "lNx1THvNaeI-",
    "outputId": "70c952e8-b709-42af-b1e7-048d673ab1a6"
   },
   "outputs": [
    {
     "data": {
      "text/plain": [
       "<Axes: >"
      ]
     },
     "execution_count": 17,
     "metadata": {},
     "output_type": "execute_result"
    },
    {
     "data": {
      "image/png": "[encoded data removed]",
      "text/plain": [
       "<Figure size 640x480 with 1 Axes>"
      ]
     },
     "metadata": {},
     "output_type": "display_data"
    }
   ],
   "source": [
    "#EDA\n",
    "#univariate analysis for the bank account\n",
    "training_data['bank_account'].value_counts().plot.bar()"
   ]
  },
  {
   "cell_type": "code",
   "execution_count": 20,
   "metadata": {
    "colab": {
     "base_uri": "https://localhost:8080/"
    },
    "executionInfo": {
     "elapsed": 5,
     "status": "ok",
     "timestamp": 1681805859361,
     "user": {
      "displayName": "felix mutai",
      "userId": "06332458957494140194"
     },
     "user_tz": -180
    },
    "id": "jhw6JdhzbJox",
    "outputId": "d127e1d9-2d21-4713-bd90-d6f16f7dbcaf"
   },
   "outputs": [
    {
     "data": {
      "text/plain": [
       "Yes    17454\n",
       "No      6070\n",
       "Name: cellphone_access, dtype: int64"
      ]
     },
     "execution_count": 20,
     "metadata": {},
     "output_type": "execute_result"
    }
   ],
   "source": [
    "training_data['cellphone_access'].value_counts()"
   ]
  },
  {
   "cell_type": "code",
   "execution_count": 21,
   "metadata": {
    "colab": {
     "base_uri": "https://localhost:8080/",
     "height": 455
    },
    "executionInfo": {
     "elapsed": 867,
     "status": "ok",
     "timestamp": 1681805938661,
     "user": {
      "displayName": "felix mutai",
      "userId": "06332458957494140194"
     },
     "user_tz": -180
    },
    "id": "4dC2fZa3bJxW",
    "outputId": "2d4a5f25-427e-4662-9afe-f9c7d1035366"
   },
   "outputs": [
    {
     "data": {
      "text/plain": [
       "<Axes: >"
      ]
     },
     "execution_count": 21,
     "metadata": {},
     "output_type": "execute_result"
    },
    {
     "data": {
      "image/png": "[encoded data removed]",
      "text/plain": [
       "<Figure size 640x480 with 1 Axes>"
      ]
     },
     "metadata": {},
     "output_type": "display_data"
    }
   ],
   "source": [
    "training_data['cellphone_access'].value_counts().plot.bar()"
   ]
  },
  {
   "cell_type": "code",
   "execution_count": 22,
   "metadata": {
    "colab": {
     "base_uri": "https://localhost:8080/"
    },
    "executionInfo": {
     "elapsed": 5,
     "status": "ok",
     "timestamp": 1681806035456,
     "user": {
      "displayName": "felix mutai",
      "userId": "06332458957494140194"
     },
     "user_tz": -180
    },
    "id": "swEJZ6ZtYv2t",
    "outputId": "eeef37c1-9e86-41d4-bba6-ecd43bd1c6f9"
   },
   "outputs": [
    {
     "data": {
      "text/plain": [
       "2     5229\n",
       "3     3920\n",
       "4     3474\n",
       "1     3057\n",
       "5     2853\n",
       "6     2096\n",
       "7     1400\n",
       "8      751\n",
       "9      363\n",
       "10     190\n",
       "11      69\n",
       "12      68\n",
       "13      25\n",
       "15      11\n",
       "14      10\n",
       "16       4\n",
       "21       1\n",
       "18       1\n",
       "17       1\n",
       "20       1\n",
       "Name: household_size, dtype: int64"
      ]
     },
     "execution_count": 22,
     "metadata": {},
     "output_type": "execute_result"
    }
   ],
   "source": [
    "training_data['household_size'].value_counts()"
   ]
  },
  {
   "cell_type": "code",
   "execution_count": 23,
   "metadata": {
    "colab": {
     "base_uri": "https://localhost:8080/",
     "height": 451
    },
    "executionInfo": {
     "elapsed": 1190,
     "status": "ok",
     "timestamp": 1681806071208,
     "user": {
      "displayName": "felix mutai",
      "userId": "06332458957494140194"
     },
     "user_tz": -180
    },
    "id": "3ByhbnEucmwE",
    "outputId": "ffbf2bfe-d2f0-4fb1-fea0-74b4885587a8"
   },
   "outputs": [
    {
     "data": {
      "text/plain": [
       "<Axes: >"
      ]
     },
     "execution_count": 23,
     "metadata": {},
     "output_type": "execute_result"
    },
    {
     "data": {
      "image/png": "[encoded data removed]",
      "text/plain": [
       "<Figure size 640x480 with 1 Axes>"
      ]
     },
     "metadata": {},
     "output_type": "display_data"
    }
   ],
   "source": [
    "training_data['household_size'].value_counts().plot.bar()"
   ]
  },
  {
   "cell_type": "code",
   "execution_count": 24,
   "metadata": {
    "colab": {
     "base_uri": "https://localhost:8080/"
    },
    "executionInfo": {
     "elapsed": 874,
     "status": "ok",
     "timestamp": 1681806270219,
     "user": {
      "displayName": "felix mutai",
      "userId": "06332458957494140194"
     },
     "user_tz": -180
    },
    "id": "YBUoJgb-cm5P",
    "outputId": "744951cc-ea5e-42ae-e12e-e4ba864f04d7"
   },
   "outputs": [
    {
     "data": {
      "text/plain": [
       "Head of Household      12831\n",
       "Spouse                  6520\n",
       "Child                   2229\n",
       "Parent                  1086\n",
       "Other relative           668\n",
       "Other non-relatives      190\n",
       "Name: relationship_with_head, dtype: int64"
      ]
     },
     "execution_count": 24,
     "metadata": {},
     "output_type": "execute_result"
    }
   ],
   "source": [
    "training_data['relationship_with_head'].value_counts()"
   ]
  },
  {
   "cell_type": "code",
   "execution_count": 25,
   "metadata": {
    "colab": {
     "base_uri": "https://localhost:8080/",
     "height": 567
    },
    "executionInfo": {
     "elapsed": 7,
     "status": "ok",
     "timestamp": 1681806276323,
     "user": {
      "displayName": "felix mutai",
      "userId": "06332458957494140194"
     },
     "user_tz": -180
    },
    "id": "6SUtpD-OcnBK",
    "outputId": "2684c41d-6668-45d0-948b-ee7d91786e10"
   },
   "outputs": [
    {
     "data": {
      "text/plain": [
       "<Axes: >"
      ]
     },
     "execution_count": 25,
     "metadata": {},
     "output_type": "execute_result"
    },
    {
     "data": {
      "image/png": "[encoded data removed]",
      "text/plain": [
       "<Figure size 640x480 with 1 Axes>"
      ]
     },
     "metadata": {},
     "output_type": "display_data"
    }
   ],
   "source": [
    "training_data['relationship_with_head'].value_counts().plot.bar()"
   ]
  },
  {
   "cell_type": "code",
   "execution_count": 27,
   "metadata": {
    "colab": {
     "base_uri": "https://localhost:8080/"
    },
    "executionInfo": {
     "elapsed": 365,
     "status": "ok",
     "timestamp": 1681806393308,
     "user": {
      "displayName": "felix mutai",
      "userId": "06332458957494140194"
     },
     "user_tz": -180
    },
    "id": "otlNHdhJcnHg",
    "outputId": "617933ab-cb6a-4122-ff8d-917dc3875a03"
   },
   "outputs": [
    {
     "data": {
      "text/plain": [
       "Married/Living together    10749\n",
       "Single/Never Married        7983\n",
       "Widowed                     2708\n",
       "Divorced/Seperated          2076\n",
       "Dont know                      8\n",
       "Name: marital_status, dtype: int64"
      ]
     },
     "execution_count": 27,
     "metadata": {},
     "output_type": "execute_result"
    }
   ],
   "source": [
    "training_data['marital_status'].value_counts()"
   ]
  },
  {
   "cell_type": "code",
   "execution_count": 28,
   "metadata": {
    "colab": {
     "base_uri": "https://localhost:8080/",
     "height": 596
    },
    "executionInfo": {
     "elapsed": 6,
     "status": "ok",
     "timestamp": 1681806414645,
     "user": {
      "displayName": "felix mutai",
      "userId": "06332458957494140194"
     },
     "user_tz": -180
    },
    "id": "VMyN3W6nd0h7",
    "outputId": "0ff27f79-1fb7-4c3a-ed0a-5190f9d2f550"
   },
   "outputs": [
    {
     "data": {
      "text/plain": [
       "<Axes: >"
      ]
     },
     "execution_count": 28,
     "metadata": {},
     "output_type": "execute_result"
    },
    {
     "data": {
      "image/png": "[encoded data removed]",
      "text/plain": [
       "<Figure size 640x480 with 1 Axes>"
      ]
     },
     "metadata": {},
     "output_type": "display_data"
    }
   ],
   "source": [
    "training_data['marital_status'].value_counts().plot.bar()"
   ]
  },
  {
   "cell_type": "code",
   "execution_count": 29,
   "metadata": {
    "colab": {
     "base_uri": "https://localhost:8080/"
    },
    "executionInfo": {
     "elapsed": 4,
     "status": "ok",
     "timestamp": 1681806442082,
     "user": {
      "displayName": "felix mutai",
      "userId": "06332458957494140194"
     },
     "user_tz": -180
    },
    "id": "lq-K3nvid0pQ",
    "outputId": "6fc10cfe-a5d0-44fc-9157-da11ba5da918"
   },
   "outputs": [
    {
     "data": {
      "text/plain": [
       "Primary education                  12791\n",
       "No formal education                 4515\n",
       "Secondary education                 4223\n",
       "Tertiary education                  1157\n",
       "Vocational/Specialised training      803\n",
       "Other/Dont know/RTA                   35\n",
       "Name: education_level, dtype: int64"
      ]
     },
     "execution_count": 29,
     "metadata": {},
     "output_type": "execute_result"
    }
   ],
   "source": [
    "training_data['education_level'].value_counts()"
   ]
  },
  {
   "cell_type": "code",
   "execution_count": 30,
   "metadata": {
    "colab": {
     "base_uri": "https://localhost:8080/",
     "height": 647
    },
    "executionInfo": {
     "elapsed": 1423,
     "status": "ok",
     "timestamp": 1681806460158,
     "user": {
      "displayName": "felix mutai",
      "userId": "06332458957494140194"
     },
     "user_tz": -180
    },
    "id": "w7ANXiqhd0vL",
    "outputId": "b631e427-5ea8-43ec-bbdf-2e86741bec9d"
   },
   "outputs": [
    {
     "data": {
      "text/plain": [
       "<Axes: >"
      ]
     },
     "execution_count": 30,
     "metadata": {},
     "output_type": "execute_result"
    },
    {
     "data": {
      "image/png": "[encoded data removed]",
      "text/plain": [
       "<Figure size 640x480 with 1 Axes>"
      ]
     },
     "metadata": {},
     "output_type": "display_data"
    }
   ],
   "source": [
    "training_data['education_level'].value_counts().plot.bar()"
   ]
  },
  {
   "cell_type": "code",
   "execution_count": 31,
   "metadata": {
    "colab": {
     "base_uri": "https://localhost:8080/"
    },
    "executionInfo": {
     "elapsed": 5,
     "status": "ok",
     "timestamp": 1681806516428,
     "user": {
      "displayName": "felix mutai",
      "userId": "06332458957494140194"
     },
     "user_tz": -180
    },
    "id": "SeUU-_uad0zR",
    "outputId": "d68f97c4-7101-4e95-e1d5-27ad5060c923"
   },
   "outputs": [
    {
     "data": {
      "text/plain": [
       "Self employed                   6437\n",
       "Informally employed             5597\n",
       "Farming and Fishing             5441\n",
       "Remittance Dependent            2527\n",
       "Other Income                    1080\n",
       "Formally employed Private       1055\n",
       "No Income                        627\n",
       "Formally employed Government     387\n",
       "Government Dependent             247\n",
       "Dont Know/Refuse to answer       126\n",
       "Name: job_type, dtype: int64"
      ]
     },
     "execution_count": 31,
     "metadata": {},
     "output_type": "execute_result"
    }
   ],
   "source": [
    "training_data['job_type'].value_counts()"
   ]
  },
  {
   "cell_type": "code",
   "execution_count": 32,
   "metadata": {
    "colab": {
     "base_uri": "https://localhost:8080/",
     "height": 657
    },
    "executionInfo": {
     "elapsed": 666,
     "status": "ok",
     "timestamp": 1681806534460,
     "user": {
      "displayName": "felix mutai",
      "userId": "06332458957494140194"
     },
     "user_tz": -180
    },
    "id": "xwXj0fgbehTC",
    "outputId": "30a68f5d-b074-407c-b28c-c952954f0f16"
   },
   "outputs": [
    {
     "data": {
      "text/plain": [
       "<Axes: >"
      ]
     },
     "execution_count": 32,
     "metadata": {},
     "output_type": "execute_result"
    },
    {
     "data": {
      "image/png": "[encoded data removed]",
      "text/plain": [
       "<Figure size 640x480 with 1 Axes>"
      ]
     },
     "metadata": {},
     "output_type": "display_data"
    }
   ],
   "source": [
    "training_data['job_type'].value_counts().plot.bar()"
   ]
  },
  {
   "cell_type": "code",
   "execution_count": 34,
   "metadata": {
    "colab": {
     "base_uri": "https://localhost:8080/",
     "height": 467
    },
    "executionInfo": {
     "elapsed": 929,
     "status": "ok",
     "timestamp": 1681806607026,
     "user": {
      "displayName": "felix mutai",
      "userId": "06332458957494140194"
     },
     "user_tz": -180
    },
    "id": "SCmCMFE9ehZz",
    "outputId": "954c8c2d-57e9-41cf-dc1e-e2cbb60ce039"
   },
   "outputs": [
    {
     "data": {
      "text/plain": [
       "<Axes: xlabel='job_type', ylabel='count'>"
      ]
     },
     "execution_count": 34,
     "metadata": {},
     "output_type": "execute_result"
    },
    {
     "data": {
      "image/png": "[encoded data removed]",
      "text/plain": [
       "<Figure size 640x480 with 1 Axes>"
      ]
     },
     "metadata": {},
     "output_type": "display_data"
    }
   ],
   "source": [
    "sns.countplot(x = 'job_type', data = training_data, hue = 'bank_account')"
   ]
  },
  {
   "cell_type": "code",
   "execution_count": 35,
   "metadata": {
    "colab": {
     "base_uri": "https://localhost:8080/",
     "height": 466
    },
    "executionInfo": {
     "elapsed": 836,
     "status": "ok",
     "timestamp": 1681806629285,
     "user": {
      "displayName": "felix mutai",
      "userId": "06332458957494140194"
     },
     "user_tz": -180
    },
    "id": "puD2zPq6e0z4",
    "outputId": "17c5ebea-451a-4512-ea82-76b14bcd430b"
   },
   "outputs": [
    {
     "data": {
      "text/plain": [
       "<Axes: xlabel='country', ylabel='count'>"
      ]
     },
     "execution_count": 35,
     "metadata": {},
     "output_type": "execute_result"
    },
    {
     "data": {
      "image/png": "[encoded data removed]",
      "text/plain": [
       "<Figure size 640x480 with 1 Axes>"
      ]
     },
     "metadata": {},
     "output_type": "display_data"
    }
   ],
   "source": [
    "sns.countplot(x = 'country', data = training_data, hue = 'bank_account')"
   ]
  },
  {
   "cell_type": "code",
   "execution_count": 37,
   "metadata": {
    "colab": {
     "base_uri": "https://localhost:8080/",
     "height": 467
    },
    "executionInfo": {
     "elapsed": 1125,
     "status": "ok",
     "timestamp": 1681806681605,
     "user": {
      "displayName": "felix mutai",
      "userId": "06332458957494140194"
     },
     "user_tz": -180
    },
    "id": "nnXPHf30e08B",
    "outputId": "4a4787c8-afff-43fa-b307-267efc34125b"
   },
   "outputs": [
    {
     "data": {
      "text/plain": [
       "<Axes: xlabel='cellphone_access', ylabel='count'>"
      ]
     },
     "execution_count": 37,
     "metadata": {},
     "output_type": "execute_result"
    },
    {
     "data": {
      "image/png": "[encoded data removed]",
      "text/plain": [
       "<Figure size 640x480 with 1 Axes>"
      ]
     },
     "metadata": {},
     "output_type": "display_data"
    }
   ],
   "source": [
    "sns.countplot(x = 'cellphone_access', data = training_data, hue = 'bank_account')"
   ]
  },
  {
   "cell_type": "code",
   "execution_count": 38,
   "metadata": {
    "colab": {
     "base_uri": "https://localhost:8080/",
     "height": 467
    },
    "executionInfo": {
     "elapsed": 795,
     "status": "ok",
     "timestamp": 1681806756577,
     "user": {
      "displayName": "felix mutai",
      "userId": "06332458957494140194"
     },
     "user_tz": -180
    },
    "id": "mOLQUmNkehex",
    "outputId": "3f3dd228-4273-420c-9574-0cf42527c9cc"
   },
   "outputs": [
    {
     "data": {
      "text/plain": [
       "<Axes: xlabel='education_level', ylabel='count'>"
      ]
     },
     "execution_count": 38,
     "metadata": {},
     "output_type": "execute_result"
    },
    {
     "data": {
      "image/png": "[encoded data removed]",
      "text/plain": [
       "<Figure size 640x480 with 1 Axes>"
      ]
     },
     "metadata": {},
     "output_type": "display_data"
    }
   ],
   "source": [
    "sns.countplot(x = 'education_level', data = training_data, hue = 'bank_account')"
   ]
  },
  {
   "cell_type": "code",
   "execution_count": null,
   "metadata": {
    "id": "b7NcDGN2hAP0"
   },
   "outputs": [],
   "source": [
    "#Data Preprocessing\n",
    "testing_data = testing_data.drop(['uniqueid'], axis = 1)\n",
    "testing_data.columns"
   ]
  },
  {
   "cell_type": "code",
   "execution_count": 49,
   "metadata": {
    "colab": {
     "base_uri": "https://localhost:8080/"
    },
    "executionInfo": {
     "elapsed": 3,
     "status": "ok",
     "timestamp": 1681807070763,
     "user": {
      "displayName": "felix mutai",
      "userId": "06332458957494140194"
     },
     "user_tz": -180
    },
    "id": "UVb0xXo6fpus",
    "outputId": "42b5dfd8-ece0-467f-8705-c89e2e9b7a68"
   },
   "outputs": [
    {
     "data": {
      "text/plain": [
       "Index(['country', 'year', 'location_type', 'cellphone_access',\n",
       "       'household_size', 'age_of_respondent', 'gender_of_respondent',\n",
       "       'relationship_with_head', 'marital_status', 'education_level',\n",
       "       'job_type'],\n",
       "      dtype='object')"
      ]
     },
     "execution_count": 49,
     "metadata": {},
     "output_type": "execute_result"
    }
   ],
   "source": [
    "#Data Preprocessing\n",
    "testing_data = testing_data.drop(['uniqueid'], axis = 1)\n",
    "testing_data.columns"
   ]
  },
  {
   "cell_type": "code",
   "execution_count": 52,
   "metadata": {
    "executionInfo": {
     "elapsed": 3,
     "status": "ok",
     "timestamp": 1681807235884,
     "user": {
      "displayName": "felix mutai",
      "userId": "06332458957494140194"
     },
     "user_tz": -180
    },
    "id": "uAmkm5yofp4p"
   },
   "outputs": [],
   "source": [
    "import category_encoders as ce"
   ]
  },
  {
   "cell_type": "code",
   "execution_count": 51,
   "metadata": {
    "colab": {
     "base_uri": "https://localhost:8080/"
    },
    "executionInfo": {
     "elapsed": 5195,
     "status": "ok",
     "timestamp": 1681807227810,
     "user": {
      "displayName": "felix mutai",
      "userId": "06332458957494140194"
     },
     "user_tz": -180
    },
    "id": "3ihwrqhKfp_Y",
    "outputId": "52abcc80-ac67-4d23-8eed-b9ab4922d04b"
   },
   "outputs": [
    {
     "name": "stdout",
     "output_type": "stream",
     "text": [
      "Looking in indexes: https://pypi.org/simple, https://us-python.pkg.dev/colab-wheels/public/simple/\n",
      "Collecting category_encoders\n",
      "  Downloading category_encoders-2.6.0-py2.py3-none-any.whl (81 kB)\n",
      "\u001b[?25l     \u001b[90m━━━━━━━━━━━━━━━━━━━━━━━━━━━━━━━━━━━━━━━━\u001b[0m \u001b[32m0.0/81.2 kB\u001b[0m \u001b[31m?\u001b[0m eta \u001b[36m-:--:--\u001b[0m\r",
      "\u001b[2K     \u001b[90m━━━━━━━━━━━━━━━━━━━━━━━━━━━━━━━━━━━━━━━━\u001b[0m \u001b[32m81.2/81.2 kB\u001b[0m \u001b[31m9.4 MB/s\u001b[0m eta \u001b[36m0:00:00\u001b[0m\n",
      "\u001b[?25hRequirement already satisfied: numpy>=1.14.0 in /usr/local/lib/python3.9/dist-packages (from category_encoders) (1.22.4)\n",
      "Requirement already satisfied: scikit-learn>=0.20.0 in /usr/local/lib/python3.9/dist-packages (from category_encoders) (1.2.2)\n",
      "Requirement already satisfied: scipy>=1.0.0 in /usr/local/lib/python3.9/dist-packages (from category_encoders) (1.10.1)\n",
      "Requirement already satisfied: statsmodels>=0.9.0 in /usr/local/lib/python3.9/dist-packages (from category_encoders) (0.13.5)\n",
      "Requirement already satisfied: patsy>=0.5.1 in /usr/local/lib/python3.9/dist-packages (from category_encoders) (0.5.3)\n",
      "Requirement already satisfied: pandas>=1.0.5 in /usr/local/lib/python3.9/dist-packages (from category_encoders) (1.5.3)\n",
      "Requirement already satisfied: pytz>=2020.1 in /usr/local/lib/python3.9/dist-packages (from pandas>=1.0.5->category_encoders) (2022.7.1)\n",
      "Requirement already satisfied: python-dateutil>=2.8.1 in /usr/local/lib/python3.9/dist-packages (from pandas>=1.0.5->category_encoders) (2.8.2)\n",
      "Requirement already satisfied: six in /usr/local/lib/python3.9/dist-packages (from patsy>=0.5.1->category_encoders) (1.16.0)\n",
      "Requirement already satisfied: threadpoolctl>=2.0.0 in /usr/local/lib/python3.9/dist-packages (from scikit-learn>=0.20.0->category_encoders) (3.1.0)\n",
      "Requirement already satisfied: joblib>=1.1.1 in /usr/local/lib/python3.9/dist-packages (from scikit-learn>=0.20.0->category_encoders) (1.2.0)\n",
      "Requirement already satisfied: packaging>=21.3 in /usr/local/lib/python3.9/dist-packages (from statsmodels>=0.9.0->category_encoders) (23.0)\n",
      "Installing collected packages: category_encoders\n",
      "Successfully installed category_encoders-2.6.0\n"
     ]
    }
   ],
   "source": [
    "pip install category_encoders"
   ]
  },
  {
   "cell_type": "code",
   "execution_count": 53,
   "metadata": {
    "colab": {
     "base_uri": "https://localhost:8080/"
    },
    "executionInfo": {
     "elapsed": 4,
     "status": "ok",
     "timestamp": 1681807313575,
     "user": {
      "displayName": "felix mutai",
      "userId": "06332458957494140194"
     },
     "user_tz": -180
    },
    "id": "iS49Ly7fcnNb",
    "outputId": "6d67eb0c-98c5-4fce-b8a0-17100a0ce05b"
   },
   "outputs": [
    {
     "data": {
      "text/plain": [
       "['country',\n",
       " 'bank_account',\n",
       " 'location_type',\n",
       " 'cellphone_access',\n",
       " 'gender_of_respondent',\n",
       " 'relationship_with_head',\n",
       " 'marital_status',\n",
       " 'education_level',\n",
       " 'job_type']"
      ]
     },
     "execution_count": 53,
     "metadata": {},
     "output_type": "execute_result"
    }
   ],
   "source": [
    "from sklearn.compose import make_column_selector as selector\n",
    "categorical_columns_selector = selector(dtype_include=object)\n",
    "categorical_columns = categorical_columns_selector(training_data)\n",
    "categorical_columns"
   ]
  },
  {
   "cell_type": "code",
   "execution_count": 54,
   "metadata": {
    "colab": {
     "base_uri": "https://localhost:8080/"
    },
    "executionInfo": {
     "elapsed": 361,
     "status": "ok",
     "timestamp": 1681807438066,
     "user": {
      "displayName": "felix mutai",
      "userId": "06332458957494140194"
     },
     "user_tz": -180
    },
    "id": "HE5nt6VvYYeu",
    "outputId": "480aeed3-691a-4383-912b-1011013dacb0"
   },
   "outputs": [
    {
     "name": "stdout",
     "output_type": "stream",
     "text": [
      "Data size (33610, 12)\n"
     ]
    }
   ],
   "source": [
    "#data shape\n",
    "xtrain = training_data.shape[0]\n",
    "xtest = testing_data.shape[0]\n",
    "all_data = pd.concat((training_data,testing_data)).reset_index(drop=True)\n",
    "print(f'Data size {all_data.shape}')"
   ]
  },
  {
   "cell_type": "code",
   "execution_count": 56,
   "metadata": {
    "executionInfo": {
     "elapsed": 904,
     "status": "ok",
     "timestamp": 1681807652140,
     "user": {
      "displayName": "felix mutai",
      "userId": "06332458957494140194"
     },
     "user_tz": -180
    },
    "id": "zuMBmgFIhyH1"
   },
   "outputs": [],
   "source": [
    "import category_encoders as ce\n",
    "from sklearn.model_selection import train_test_split\n",
    "\n",
    "X_train, X_test, y_train, y_test = train_test_split(all_data, all_data['bank_account'], test_size=0.3,\n",
    "                                                    random_state=0)\n",
    "X_train.shape, X_test.shape\n",
    "\n",
    "ord_enc = ce.OrdinalEncoder(cols=['country',\n",
    " 'location_type',\n",
    " 'cellphone_access',\n",
    " 'gender_of_respondent',\n",
    " 'relationship_with_head',\n",
    " 'marital_status',\n",
    " 'education_level',\n",
    " 'job_type']).fit(X_train,y_train)\n",
    "\n",
    "\n",
    "data = ord_enc.transform(all_data)\n",
    "data.head()\n",
    "\n",
    "main_cols =data.columns.difference(['bank_account'])"
   ]
  },
  {
   "cell_type": "code",
   "execution_count": 60,
   "metadata": {
    "executionInfo": {
     "elapsed": 490,
     "status": "ok",
     "timestamp": 1681807786620,
     "user": {
      "displayName": "felix mutai",
      "userId": "06332458957494140194"
     },
     "user_tz": -180
    },
    "id": "R_4lXrSwhyOi"
   },
   "outputs": [],
   "source": [
    "train = data[:xtrain].copy()\n",
    "target = train.bank_account.copy()\n",
    "train.drop('bank_account', axis=1, inplace=True)\n",
    "\n",
    "test = data[xtrain:].copy()\n",
    "test.drop('bank_account', axis=1, inplace=True)\n",
    "test = test.reset_index(drop=True)"
   ]
  },
  {
   "cell_type": "code",
   "execution_count": 61,
   "metadata": {
    "colab": {
     "base_uri": "https://localhost:8080/"
    },
    "executionInfo": {
     "elapsed": 9453,
     "status": "ok",
     "timestamp": 1681807865408,
     "user": {
      "displayName": "felix mutai",
      "userId": "06332458957494140194"
     },
     "user_tz": -180
    },
    "id": "kPf160dSjPDN",
    "outputId": "bf36399a-f5be-4130-a3ba-ac2347aec358"
   },
   "outputs": [
    {
     "name": "stdout",
     "output_type": "stream",
     "text": [
      "Looking in indexes: https://pypi.org/simple, https://us-python.pkg.dev/colab-wheels/public/simple/\n",
      "Collecting catboost\n",
      "  Downloading catboost-1.1.1-cp39-none-manylinux1_x86_64.whl (76.6 MB)\n",
      "\u001b[2K     \u001b[90m━━━━━━━━━━━━━━━━━━━━━━━━━━━━━━━━━━━━━━━━\u001b[0m \u001b[32m76.6/76.6 MB\u001b[0m \u001b[31m9.1 MB/s\u001b[0m eta \u001b[36m0:00:00\u001b[0m\n",
      "\u001b[?25hRequirement already satisfied: plotly in /usr/local/lib/python3.9/dist-packages (from catboost) (5.13.1)\n",
      "Requirement already satisfied: graphviz in /usr/local/lib/python3.9/dist-packages (from catboost) (0.20.1)\n",
      "Requirement already satisfied: numpy>=1.16.0 in /usr/local/lib/python3.9/dist-packages (from catboost) (1.22.4)\n",
      "Requirement already satisfied: pandas>=0.24.0 in /usr/local/lib/python3.9/dist-packages (from catboost) (1.5.3)\n",
      "Requirement already satisfied: six in /usr/local/lib/python3.9/dist-packages (from catboost) (1.16.0)\n",
      "Requirement already satisfied: matplotlib in /usr/local/lib/python3.9/dist-packages (from catboost) (3.7.1)\n",
      "Requirement already satisfied: scipy in /usr/local/lib/python3.9/dist-packages (from catboost) (1.10.1)\n",
      "Requirement already satisfied: pytz>=2020.1 in /usr/local/lib/python3.9/dist-packages (from pandas>=0.24.0->catboost) (2022.7.1)\n",
      "Requirement already satisfied: python-dateutil>=2.8.1 in /usr/local/lib/python3.9/dist-packages (from pandas>=0.24.0->catboost) (2.8.2)\n",
      "Requirement already satisfied: contourpy>=1.0.1 in /usr/local/lib/python3.9/dist-packages (from matplotlib->catboost) (1.0.7)\n",
      "Requirement already satisfied: pillow>=6.2.0 in /usr/local/lib/python3.9/dist-packages (from matplotlib->catboost) (8.4.0)\n",
      "Requirement already satisfied: fonttools>=4.22.0 in /usr/local/lib/python3.9/dist-packages (from matplotlib->catboost) (4.39.3)\n",
      "Requirement already satisfied: cycler>=0.10 in /usr/local/lib/python3.9/dist-packages (from matplotlib->catboost) (0.11.0)\n",
      "Requirement already satisfied: kiwisolver>=1.0.1 in /usr/local/lib/python3.9/dist-packages (from matplotlib->catboost) (1.4.4)\n",
      "Requirement already satisfied: importlib-resources>=3.2.0 in /usr/local/lib/python3.9/dist-packages (from matplotlib->catboost) (5.12.0)\n",
      "Requirement already satisfied: packaging>=20.0 in /usr/local/lib/python3.9/dist-packages (from matplotlib->catboost) (23.0)\n",
      "Requirement already satisfied: pyparsing>=2.3.1 in /usr/local/lib/python3.9/dist-packages (from matplotlib->catboost) (3.0.9)\n",
      "Requirement already satisfied: tenacity>=6.2.0 in /usr/local/lib/python3.9/dist-packages (from plotly->catboost) (8.2.2)\n",
      "Requirement already satisfied: zipp>=3.1.0 in /usr/local/lib/python3.9/dist-packages (from importlib-resources>=3.2.0->matplotlib->catboost) (3.15.0)\n",
      "Installing collected packages: catboost\n",
      "Successfully installed catboost-1.1.1\n"
     ]
    }
   ],
   "source": [
    "pip install catboost"
   ]
  },
  {
   "cell_type": "code",
   "execution_count": 62,
   "metadata": {
    "executionInfo": {
     "elapsed": 340,
     "status": "ok",
     "timestamp": 1681807983743,
     "user": {
      "displayName": "felix mutai",
      "userId": "06332458957494140194"
     },
     "user_tz": -180
    },
    "id": "ndGGZZEpjPSK"
   },
   "outputs": [],
   "source": [
    "class func() :   \n",
    "    def __init__(self, train, label, test, model, model_type, random_state):\n",
    "        self.train, self.label, self.test = train, label, test\n",
    "        self.model, self.model_type = model, model_type\n",
    "        self.random_state = random_state\n",
    "        \n",
    "        assert self.model_type in ('catboost', 'xgboost', 'lgbm'), 'Incorrect model_type'\n",
    "    def __call__(self, plot = True):\n",
    "        return self.fit(plot)\n",
    "\n",
    "    def fit(self, plot):\n",
    "        def catboost_fit(X_train, X_test, y_train, y_test):\n",
    "            self.model.fit(X_train,y_train,eval_set=[(X_test,y_test)],early_stopping_rounds=500,\n",
    "                           verbose=50,use_best_model=True)\n",
    "            x_test_predict = self.model.predict_proba(X_test)[:,1]\n",
    "            x_train_predict = self.model.predict_proba(X_train)[:,1]\n",
    "            self.val_p[test_index] = x_test_predict\n",
    "            self.test_p += self.model.predict_proba(self.test)[:,1]\n",
    "            return x_test_predict, x_train_predict\n",
    "\n",
    "        def xgboost_fit(X_train, X_test, y_train, y_test):\n",
    "            self.model.fit(X_train, y_train, early_stopping_rounds = 30, eval_metric=\"auc\",\n",
    "                           eval_set=[(X_test, y_test)], verbose = True)\n",
    "            x_test_predict = self.model.predict_proba(X_test, ntree_limit = self.model.get_booster().best_ntree_limit)[:,1]\n",
    "            x_train_predict = self.model.predict_proba(X_train, ntree_limit = self.model.get_booster().best_ntree_limit)[:,1]\n",
    "            self.val_p[test_index] = x_test_predict\n",
    "            self.test_p += self.model.predict_proba(self.test, ntree_limit = self.model.get_booster().best_ntree_limit)[:,1]\n",
    "            return x_test_predict, x_train_predict\n",
    "\n",
    "        def lgbm_fit(X_train, X_test, y_train, y_test):\n",
    "            self.model.fit(X_train, y_train, early_stopping_rounds = 30, eval_metric=\"auc\",\n",
    "                           eval_set=[(X_test, y_test)], verbose = True)\n",
    "            x_test_predict = self.model.predict_proba(X_test, num_iteration = self.model.best_iteration_)[:,1]\n",
    "            x_train_predict = self.model.predict_proba(X_train, num_iteration = self.model.best_iteration_)[:,1]\n",
    "            self.val_p[test_index] = x_test_predict\n",
    "            self.test_p += self.model.predict_proba(self.test, num_iteration = self.model.best_iteration_)[:,1]\n",
    "            return x_test_predict, x_train_predict\n",
    "\n",
    "\n",
    "        self.val_p = np.zeros(self.train.shape[0])\n",
    "        mean_val = []\n",
    "        mean_train = []\n",
    "        self.test_p = np.zeros(self.test.shape[0])\n",
    "        splits = 5\n",
    "        kf = StratifiedKFold(n_splits = splits)\n",
    "        for fold_count, (train_index, test_index) in enumerate(kf.split(self.train, self.label)):\n",
    "            X_train,X_test = self.train.iloc[train_index],self.train.iloc[test_index]\n",
    "            y_train,y_test = self.label.iloc[train_index],self.label.iloc[test_index]\n",
    "\n",
    "            print(f\"------------------------Fold{fold_count+1}---------------------------\")\n",
    "            if self.model_type == 'catboost': x_test_predict, x_train_predict = catboost_fit(X_train, X_test, y_train, y_test)\n",
    "            elif self.model_type == 'xgboost': x_test_predict, x_train_predict = xgboost_fit(X_train, X_test, y_train, y_test)\n",
    "            elif self.model_type == 'lgbm': x_test_predict, x_train_predict = lgbm_fit(X_train, X_test, y_train, y_test)\n",
    "\n",
    "            print('\\nValidation scores', roc_auc_score(y_test, x_test_predict), log_loss(y_test, x_test_predict))\n",
    "            print('Training scores', roc_auc_score(y_train, x_train_predict), log_loss(y_train, x_train_predict))\n",
    "            mean_val.append(roc_auc_score(y_test, x_test_predict))\n",
    "            mean_train.append(roc_auc_score(y_train, x_train_predict))\n",
    "\n",
    "        if plot:\n",
    "            feat_imp = pd.DataFrame(sorted(zip(self.model.feature_importances_,self.train.columns)), columns=['Value','Feature'])\n",
    "            plt.figure(figsize=(30,25))\n",
    "            sns.barplot(x=\"Value\", y=\"Feature\", data=feat_imp.sort_values(by=\"Value\", ascending=False))\n",
    "            plt.ylabel('Feature Importance Score')\n",
    "            plt.show()\n",
    "        print(np.mean(mean_val), np.mean(mean_train), np.std(mean_val))\n",
    "        return self.val_p, self.test_p/splits, self.model"
   ]
  },
  {
   "cell_type": "code",
   "execution_count": 64,
   "metadata": {
    "executionInfo": {
     "elapsed": 3,
     "status": "ok",
     "timestamp": 1681808056451,
     "user": {
      "displayName": "felix mutai",
      "userId": "06332458957494140194"
     },
     "user_tz": -180
    },
    "id": "BnapoMefhyVK"
   },
   "outputs": [],
   "source": [
    "from catboost import CatBoostClassifier\n",
    "import lightgbm as lgb\n",
    "import xgboost as xgb\n",
    "from  sklearn.model_selection import StratifiedKFold\n",
    "from sklearn.metrics import roc_auc_score,log_loss"
   ]
  },
  {
   "cell_type": "code",
   "execution_count": 65,
   "metadata": {
    "colab": {
     "base_uri": "https://localhost:8080/",
     "height": 1000
    },
    "executionInfo": {
     "elapsed": 6978,
     "status": "ok",
     "timestamp": 1681808106804,
     "user": {
      "displayName": "felix mutai",
      "userId": "06332458957494140194"
     },
     "user_tz": -180
    },
    "id": "jyqaUwJRhybh",
    "outputId": "9a672166-1c8c-4b58-f729-f256b1be08ae"
   },
   "outputs": [
    {
     "name": "stdout",
     "output_type": "stream",
     "text": [
      "------------------------Fold1---------------------------\n",
      "[1]\tvalid_0's auc: 0.76384\n",
      "[2]\tvalid_0's auc: 0.787191\n",
      "[3]\tvalid_0's auc: 0.788707\n",
      "[4]\tvalid_0's auc: 0.791802\n",
      "[5]\tvalid_0's auc: 0.794813\n",
      "[6]\tvalid_0's auc: 0.79307\n",
      "[7]\tvalid_0's auc: 0.793003\n",
      "[8]\tvalid_0's auc: 0.795932\n",
      "[9]\tvalid_0's auc: 0.79437\n",
      "[10]\tvalid_0's auc: 0.795117\n",
      "[11]\tvalid_0's auc: 0.795701\n",
      "[12]\tvalid_0's auc: 0.7958\n",
      "[13]\tvalid_0's auc: 0.798084\n",
      "[14]\tvalid_0's auc: 0.796872\n",
      "[15]\tvalid_0's auc: 0.797209\n",
      "[16]\tvalid_0's auc: 0.800424\n",
      "[17]\tvalid_0's auc: 0.801084\n",
      "[18]\tvalid_0's auc: 0.801665\n",
      "[19]\tvalid_0's auc: 0.801435\n",
      "[20]\tvalid_0's auc: 0.802646\n",
      "[21]\tvalid_0's auc: 0.803585\n",
      "[22]\tvalid_0's auc: 0.803901\n",
      "[23]\tvalid_0's auc: 0.805491\n",
      "[24]\tvalid_0's auc: 0.80849\n",
      "[25]\tvalid_0's auc: 0.80833\n",
      "[26]\tvalid_0's auc: 0.810147\n",
      "[27]\tvalid_0's auc: 0.811535\n",
      "[28]\tvalid_0's auc: 0.81226\n",
      "[29]\tvalid_0's auc: 0.812562\n",
      "[30]\tvalid_0's auc: 0.813199\n",
      "[31]\tvalid_0's auc: 0.813434\n",
      "[32]\tvalid_0's auc: 0.813416\n"
     ]
    },
    {
     "name": "stderr",
     "output_type": "stream",
     "text": [
      "/usr/local/lib/python3.9/dist-packages/lightgbm/sklearn.py:726: UserWarning: 'early_stopping_rounds' argument is deprecated and will be removed in a future release of LightGBM. Pass 'early_stopping()' callback via 'callbacks' argument instead.\n",
      "  _log_warning(\"'early_stopping_rounds' argument is deprecated and will be removed in a future release of LightGBM. \"\n",
      "/usr/local/lib/python3.9/dist-packages/lightgbm/sklearn.py:736: UserWarning: 'verbose' argument is deprecated and will be removed in a future release of LightGBM. Pass 'log_evaluation()' callback via 'callbacks' argument instead.\n",
      "  _log_warning(\"'verbose' argument is deprecated and will be removed in a future release of LightGBM. \"\n"
     ]
    },
    {
     "name": "stdout",
     "output_type": "stream",
     "text": [
      "[33]\tvalid_0's auc: 0.813356\n",
      "[34]\tvalid_0's auc: 0.814191\n",
      "[35]\tvalid_0's auc: 0.813868\n",
      "[36]\tvalid_0's auc: 0.814229\n",
      "[37]\tvalid_0's auc: 0.814895\n",
      "[38]\tvalid_0's auc: 0.814995\n",
      "[39]\tvalid_0's auc: 0.814541\n",
      "[40]\tvalid_0's auc: 0.814392\n",
      "[41]\tvalid_0's auc: 0.815324\n",
      "[42]\tvalid_0's auc: 0.815367\n",
      "[43]\tvalid_0's auc: 0.815039\n",
      "[44]\tvalid_0's auc: 0.815123\n",
      "[45]\tvalid_0's auc: 0.815382\n",
      "[46]\tvalid_0's auc: 0.816019\n",
      "[47]\tvalid_0's auc: 0.816025\n",
      "[48]\tvalid_0's auc: 0.816383\n",
      "[49]\tvalid_0's auc: 0.815915\n",
      "[50]\tvalid_0's auc: 0.815838\n",
      "[51]\tvalid_0's auc: 0.816102\n",
      "[52]\tvalid_0's auc: 0.8163\n",
      "[53]\tvalid_0's auc: 0.816373\n",
      "[54]\tvalid_0's auc: 0.816023\n",
      "[55]\tvalid_0's auc: 0.815872\n",
      "[56]\tvalid_0's auc: 0.815817\n",
      "[57]\tvalid_0's auc: 0.815427\n",
      "[58]\tvalid_0's auc: 0.815265\n",
      "[59]\tvalid_0's auc: 0.815175\n",
      "[60]\tvalid_0's auc: 0.814941\n",
      "[61]\tvalid_0's auc: 0.81544\n",
      "[62]\tvalid_0's auc: 0.81544\n",
      "[63]\tvalid_0's auc: 0.815107\n",
      "[64]\tvalid_0's auc: 0.814593\n",
      "[65]\tvalid_0's auc: 0.814803\n",
      "[66]\tvalid_0's auc: 0.814882\n",
      "[67]\tvalid_0's auc: 0.815331\n",
      "[68]\tvalid_0's auc: 0.81538\n",
      "[69]\tvalid_0's auc: 0.815135\n",
      "[70]\tvalid_0's auc: 0.815081\n",
      "[71]\tvalid_0's auc: 0.815253\n",
      "[72]\tvalid_0's auc: 0.815356\n",
      "[73]\tvalid_0's auc: 0.815216\n",
      "[74]\tvalid_0's auc: 0.815293\n",
      "[75]\tvalid_0's auc: 0.815363\n",
      "[76]\tvalid_0's auc: 0.815553\n",
      "[77]\tvalid_0's auc: 0.815345\n",
      "[78]\tvalid_0's auc: 0.815048\n",
      "\n",
      "Validation scores 0.8163825458627101 0.6239777592595241\n",
      "Training scores 0.9138763113605373 0.23177019412263616\n",
      "------------------------Fold2---------------------------\n",
      "[1]\tvalid_0's auc: 0.748519\n",
      "[2]\tvalid_0's auc: 0.759023\n",
      "[3]\tvalid_0's auc: 0.759003\n",
      "[4]\tvalid_0's auc: 0.763297\n",
      "[5]\tvalid_0's auc: 0.770208\n",
      "[6]\tvalid_0's auc: 0.778451\n",
      "[7]\tvalid_0's auc: 0.774048\n",
      "[8]\tvalid_0's auc: 0.781919\n",
      "[9]\tvalid_0's auc: 0.779952\n",
      "[10]\tvalid_0's auc: 0.784469\n",
      "[11]\tvalid_0's auc: 0.7881\n",
      "[12]\tvalid_0's auc: 0.792531\n",
      "[13]\tvalid_0's auc: 0.791715\n",
      "[14]\tvalid_0's auc: 0.793798\n",
      "[15]\tvalid_0's auc: 0.796443\n",
      "[16]\tvalid_0's auc: 0.798055\n",
      "[17]\tvalid_0's auc: 0.799943\n",
      "[18]\tvalid_0's auc: 0.799067\n",
      "[19]\tvalid_0's auc: 0.799328\n",
      "[20]\tvalid_0's auc: 0.798997\n",
      "[21]\tvalid_0's auc: 0.798419\n",
      "[22]\tvalid_0's auc: 0.797684\n",
      "[23]\tvalid_0's auc: 0.799529\n",
      "[24]\tvalid_0's auc: 0.799626\n",
      "[25]\tvalid_0's auc: 0.800211\n",
      "[26]\tvalid_0's auc: 0.801775\n",
      "[27]\tvalid_0's auc: 0.802642\n",
      "[28]\tvalid_0's auc: 0.803136\n",
      "[29]\tvalid_0's auc: 0.803085\n",
      "[30]\tvalid_0's auc: 0.803573\n",
      "[31]\tvalid_0's auc: 0.802808\n",
      "[32]\tvalid_0's auc: 0.80311\n",
      "[33]\tvalid_0's auc: 0.802783"
     ]
    },
    {
     "name": "stderr",
     "output_type": "stream",
     "text": [
      "/usr/local/lib/python3.9/dist-packages/lightgbm/sklearn.py:726: UserWarning: 'early_stopping_rounds' argument is deprecated and will be removed in a future release of LightGBM. Pass 'early_stopping()' callback via 'callbacks' argument instead.\n",
      "  _log_warning(\"'early_stopping_rounds' argument is deprecated and will be removed in a future release of LightGBM. \"\n",
      "/usr/local/lib/python3.9/dist-packages/lightgbm/sklearn.py:736: UserWarning: 'verbose' argument is deprecated and will be removed in a future release of LightGBM. Pass 'log_evaluation()' callback via 'callbacks' argument instead.\n",
      "  _log_warning(\"'verbose' argument is deprecated and will be removed in a future release of LightGBM. \"\n"
     ]
    },
    {
     "name": "stdout",
     "output_type": "stream",
     "text": [
      "\n",
      "[34]\tvalid_0's auc: 0.803185\n",
      "[35]\tvalid_0's auc: 0.803153\n",
      "[36]\tvalid_0's auc: 0.802853\n",
      "[37]\tvalid_0's auc: 0.803686\n",
      "[38]\tvalid_0's auc: 0.802791\n",
      "[39]\tvalid_0's auc: 0.802211\n",
      "[40]\tvalid_0's auc: 0.802479\n",
      "[41]\tvalid_0's auc: 0.802006\n",
      "[42]\tvalid_0's auc: 0.801131\n",
      "[43]\tvalid_0's auc: 0.801244\n",
      "[44]\tvalid_0's auc: 0.802009\n",
      "[45]\tvalid_0's auc: 0.801415\n",
      "[46]\tvalid_0's auc: 0.80178\n",
      "[47]\tvalid_0's auc: 0.801934\n",
      "[48]\tvalid_0's auc: 0.801977\n",
      "[49]\tvalid_0's auc: 0.802287\n",
      "[50]\tvalid_0's auc: 0.801618\n",
      "[51]\tvalid_0's auc: 0.801745\n",
      "[52]\tvalid_0's auc: 0.801684\n",
      "[53]\tvalid_0's auc: 0.802718\n",
      "[54]\tvalid_0's auc: 0.801937\n",
      "[55]\tvalid_0's auc: 0.802441\n",
      "[56]\tvalid_0's auc: 0.801997\n",
      "[57]\tvalid_0's auc: 0.802073\n",
      "[58]\tvalid_0's auc: 0.801951\n",
      "[59]\tvalid_0's auc: 0.801602\n",
      "[60]\tvalid_0's auc: 0.801735\n",
      "[61]\tvalid_0's auc: 0.801473\n",
      "[62]\tvalid_0's auc: 0.80128\n",
      "[63]\tvalid_0's auc: 0.801273\n",
      "[64]\tvalid_0's auc: 0.801995\n",
      "[65]\tvalid_0's auc: 0.801698\n",
      "[66]\tvalid_0's auc: 0.801877\n",
      "[67]\tvalid_0's auc: 0.80193\n",
      "\n",
      "Validation scores 0.803685920758133 0.3289695519199592\n",
      "Training scores 0.8876113972134034 0.2646054039855949\n",
      "------------------------Fold3---------------------------\n",
      "[1]\tvalid_0's auc: 0.783551\n",
      "[2]\tvalid_0's auc: 0.803837\n",
      "[3]\tvalid_0's auc: 0.813481\n",
      "[4]\tvalid_0's auc: 0.814871\n",
      "[5]\tvalid_0's auc: 0.815954\n",
      "[6]\tvalid_0's auc: 0.81923\n",
      "[7]\tvalid_0's auc: 0.820858\n",
      "[8]\tvalid_0's auc: 0.829433\n",
      "[9]\tvalid_0's auc: 0.829213\n",
      "[10]\tvalid_0's auc: 0.831295\n",
      "[11]\tvalid_0's auc: 0.835245\n",
      "[12]\tvalid_0's auc: 0.836441\n",
      "[13]\tvalid_0's auc: 0.838713\n",
      "[14]\tvalid_0's auc: 0.84064\n"
     ]
    },
    {
     "name": "stderr",
     "output_type": "stream",
     "text": [
      "/usr/local/lib/python3.9/dist-packages/lightgbm/sklearn.py:726: UserWarning: 'early_stopping_rounds' argument is deprecated and will be removed in a future release of LightGBM. Pass 'early_stopping()' callback via 'callbacks' argument instead.\n",
      "  _log_warning(\"'early_stopping_rounds' argument is deprecated and will be removed in a future release of LightGBM. \"\n",
      "/usr/local/lib/python3.9/dist-packages/lightgbm/sklearn.py:736: UserWarning: 'verbose' argument is deprecated and will be removed in a future release of LightGBM. Pass 'log_evaluation()' callback via 'callbacks' argument instead.\n",
      "  _log_warning(\"'verbose' argument is deprecated and will be removed in a future release of LightGBM. \"\n"
     ]
    },
    {
     "name": "stdout",
     "output_type": "stream",
     "text": [
      "[15]\tvalid_0's auc: 0.841838\n",
      "[16]\tvalid_0's auc: 0.842516\n",
      "[17]\tvalid_0's auc: 0.842298\n",
      "[18]\tvalid_0's auc: 0.841832\n",
      "[19]\tvalid_0's auc: 0.842295\n",
      "[20]\tvalid_0's auc: 0.843122\n",
      "[21]\tvalid_0's auc: 0.842904\n",
      "[22]\tvalid_0's auc: 0.842674\n",
      "[23]\tvalid_0's auc: 0.842761\n",
      "[24]\tvalid_0's auc: 0.843198\n",
      "[25]\tvalid_0's auc: 0.843151\n",
      "[26]\tvalid_0's auc: 0.843196\n",
      "[27]\tvalid_0's auc: 0.842985\n",
      "[28]\tvalid_0's auc: 0.843558\n",
      "[29]\tvalid_0's auc: 0.843655\n",
      "[30]\tvalid_0's auc: 0.843522\n",
      "[31]\tvalid_0's auc: 0.843424\n",
      "[32]\tvalid_0's auc: 0.84378\n",
      "[33]\tvalid_0's auc: 0.843681\n",
      "[34]\tvalid_0's auc: 0.843297\n",
      "[35]\tvalid_0's auc: 0.842824\n",
      "[36]\tvalid_0's auc: 0.843662\n",
      "[37]\tvalid_0's auc: 0.843472\n",
      "[38]\tvalid_0's auc: 0.843141\n",
      "[39]\tvalid_0's auc: 0.843601\n",
      "[40]\tvalid_0's auc: 0.843523\n",
      "[41]\tvalid_0's auc: 0.843287\n",
      "[42]\tvalid_0's auc: 0.843494\n",
      "[43]\tvalid_0's auc: 0.843484\n",
      "[44]\tvalid_0's auc: 0.843256\n",
      "[45]\tvalid_0's auc: 0.842653\n",
      "[46]\tvalid_0's auc: 0.841845\n",
      "[47]\tvalid_0's auc: 0.842445\n",
      "[48]\tvalid_0's auc: 0.842349\n",
      "[49]\tvalid_0's auc: 0.843111\n",
      "[50]\tvalid_0's auc: 0.843204\n",
      "[51]\tvalid_0's auc: 0.842943\n",
      "[52]\tvalid_0's auc: 0.843306\n",
      "[53]\tvalid_0's auc: 0.843014\n",
      "[54]\tvalid_0's auc: 0.843038\n",
      "[55]\tvalid_0's auc: 0.842892\n",
      "[56]\tvalid_0's auc: 0.842668\n",
      "[57]\tvalid_0's auc: 0.84205\n",
      "[58]\tvalid_0's auc: 0.842096\n",
      "[59]\tvalid_0's auc: 0.842037\n",
      "[60]\tvalid_0's auc: 0.841897\n",
      "[61]\tvalid_0's auc: 0.841954\n",
      "[62]\tvalid_0's auc: 0.841722\n",
      "\n",
      "Validation scores 0.8437796332925581 0.2955134482287282\n",
      "Training scores 0.8873941633010757 0.26583392360644303\n",
      "------------------------Fold4---------------------------\n",
      "[1]\tvalid_0's auc: 0.656582\n",
      "[2]\tvalid_0's auc: 0.652242\n",
      "[3]\tvalid_0's auc: 0.638717\n",
      "[4]\tvalid_0's auc: 0.648112\n",
      "[5]\tvalid_0's auc: 0.652586\n",
      "[6]\tvalid_0's auc: 0.655866\n",
      "[7]\tvalid_0's auc: 0.660908\n",
      "[8]\tvalid_0's auc: 0.664515\n",
      "[9]\tvalid_0's auc: 0.666159\n",
      "[10]\tvalid_0's auc: 0.668804\n",
      "[11]\tvalid_0's auc: 0.675329\n",
      "[12]\tvalid_0's auc: 0.678845\n",
      "[13]\tvalid_0's auc: 0.679665\n",
      "[14]\tvalid_0's auc: 0.683325\n",
      "[15]\tvalid_0's auc: 0.686164\n",
      "[16]\tvalid_0's auc: 0.688663\n",
      "[17]\tvalid_0's auc: 0.691535\n",
      "[18]\tvalid_0's auc: 0.696382\n",
      "[19]\tvalid_0's auc: 0.69617\n",
      "[20]\tvalid_0's auc: 0.698204\n",
      "[21]\tvalid_0's auc: 0.700406"
     ]
    },
    {
     "name": "stderr",
     "output_type": "stream",
     "text": [
      "/usr/local/lib/python3.9/dist-packages/lightgbm/sklearn.py:726: UserWarning: 'early_stopping_rounds' argument is deprecated and will be removed in a future release of LightGBM. Pass 'early_stopping()' callback via 'callbacks' argument instead.\n",
      "  _log_warning(\"'early_stopping_rounds' argument is deprecated and will be removed in a future release of LightGBM. \"\n",
      "/usr/local/lib/python3.9/dist-packages/lightgbm/sklearn.py:736: UserWarning: 'verbose' argument is deprecated and will be removed in a future release of LightGBM. Pass 'log_evaluation()' callback via 'callbacks' argument instead.\n",
      "  _log_warning(\"'verbose' argument is deprecated and will be removed in a future release of LightGBM. \"\n"
     ]
    },
    {
     "name": "stdout",
     "output_type": "stream",
     "text": [
      "\n",
      "[22]\tvalid_0's auc: 0.701904\n",
      "[23]\tvalid_0's auc: 0.70496\n",
      "[24]\tvalid_0's auc: 0.70676\n",
      "[25]\tvalid_0's auc: 0.709106\n",
      "[26]\tvalid_0's auc: 0.710334\n",
      "[27]\tvalid_0's auc: 0.710459\n",
      "[28]\tvalid_0's auc: 0.712551\n",
      "[29]\tvalid_0's auc: 0.715712\n",
      "[30]\tvalid_0's auc: 0.716551\n",
      "[31]\tvalid_0's auc: 0.718525\n",
      "[32]\tvalid_0's auc: 0.719418\n",
      "[33]\tvalid_0's auc: 0.719963\n",
      "[34]\tvalid_0's auc: 0.719944\n",
      "[35]\tvalid_0's auc: 0.722399\n",
      "[36]\tvalid_0's auc: 0.723897\n",
      "[37]\tvalid_0's auc: 0.724281\n",
      "[38]\tvalid_0's auc: 0.727068\n",
      "[39]\tvalid_0's auc: 0.727275\n",
      "[40]\tvalid_0's auc: 0.727203\n",
      "[41]\tvalid_0's auc: 0.728366\n",
      "[42]\tvalid_0's auc: 0.729498\n",
      "[43]\tvalid_0's auc: 0.730902\n",
      "[44]\tvalid_0's auc: 0.731387\n",
      "[45]\tvalid_0's auc: 0.731615\n",
      "[46]\tvalid_0's auc: 0.730612\n",
      "[47]\tvalid_0's auc: 0.730497\n",
      "[48]\tvalid_0's auc: 0.730853\n",
      "[49]\tvalid_0's auc: 0.731914\n",
      "[50]\tvalid_0's auc: 0.732431\n",
      "[51]\tvalid_0's auc: 0.732989\n",
      "[52]\tvalid_0's auc: 0.733723\n",
      "[53]\tvalid_0's auc: 0.73292\n",
      "[54]\tvalid_0's auc: 0.734678\n",
      "[55]\tvalid_0's auc: 0.734639\n",
      "[56]\tvalid_0's auc: 0.735027\n",
      "[57]\tvalid_0's auc: 0.73513\n",
      "[58]\tvalid_0's auc: 0.736951\n",
      "[59]\tvalid_0's auc: 0.737391\n",
      "[60]\tvalid_0's auc: 0.73787\n",
      "[61]\tvalid_0's auc: 0.737865\n",
      "[62]\tvalid_0's auc: 0.737907\n",
      "[63]\tvalid_0's auc: 0.737282\n",
      "[64]\tvalid_0's auc: 0.737281\n",
      "[65]\tvalid_0's auc: 0.737138\n",
      "[66]\tvalid_0's auc: 0.736245\n",
      "[67]\tvalid_0's auc: 0.73627\n",
      "[68]\tvalid_0's auc: 0.73622\n",
      "[69]\tvalid_0's auc: 0.736167\n",
      "[70]\tvalid_0's auc: 0.736552\n",
      "[71]\tvalid_0's auc: 0.736689\n",
      "[72]\tvalid_0's auc: 0.737576\n",
      "[73]\tvalid_0's auc: 0.737699\n",
      "[74]\tvalid_0's auc: 0.73658\n",
      "[75]\tvalid_0's auc: 0.73678\n",
      "[76]\tvalid_0's auc: 0.736981\n",
      "[77]\tvalid_0's auc: 0.736564\n",
      "[78]\tvalid_0's auc: 0.73614\n",
      "[79]\tvalid_0's auc: 0.736606\n",
      "[80]\tvalid_0's auc: 0.736606\n",
      "[81]\tvalid_0's auc: 0.737575\n",
      "[82]\tvalid_0's auc: 0.737911\n",
      "[83]\tvalid_0's auc: 0.738315\n",
      "[84]\tvalid_0's auc: 0.737996\n",
      "[85]\tvalid_0's auc: 0.738106\n",
      "[86]\tvalid_0's auc: 0.738376\n",
      "[87]\tvalid_0's auc: 0.738081\n",
      "[88]\tvalid_0's auc: 0.738138\n",
      "[89]\tvalid_0's auc: 0.737698\n",
      "[90]\tvalid_0's auc: 0.738598\n",
      "[91]\tvalid_0's auc: 0.738089\n",
      "[92]\tvalid_0's auc: 0.738532\n",
      "[93]\tvalid_0's auc: 0.738619\n",
      "[94]\tvalid_0's auc: 0.738659\n",
      "[95]\tvalid_0's auc: 0.738203\n",
      "[96]\tvalid_0's auc: 0.738496\n",
      "[97]\tvalid_0's auc: 0.738313\n",
      "[98]\tvalid_0's auc: 0.738556\n",
      "[99]\tvalid_0's auc: 0.738336\n",
      "[100]\tvalid_0's auc: 0.739291\n",
      "\n",
      "Validation scores 0.739291476148025 0.382049121350314\n",
      "Training scores 0.9193303281261487 0.23218172795870237\n",
      "------------------------Fold5---------------------------\n",
      "[1]\tvalid_0's auc: 0.739574\n",
      "[2]\tvalid_0's auc: 0.73231\n",
      "[3]\tvalid_0's auc: 0.737831\n",
      "[4]\tvalid_0's auc: 0.741187\n",
      "[5]\tvalid_0's auc: 0.738616\n",
      "[6]\tvalid_0's auc: 0.73802\n",
      "[7]\tvalid_0's auc: 0.738651\n",
      "[8]\tvalid_0's auc: 0.741557\n",
      "[9]\tvalid_0's auc: 0.741613\n",
      "[10]\tvalid_0's auc: 0.744101\n",
      "[11]\tvalid_0's auc: 0.74848\n",
      "[12]\tvalid_0's auc: 0.749414\n",
      "[13]\tvalid_0's auc: 0.758594\n",
      "[14]\tvalid_0's auc: 0.758364\n",
      "[15]\tvalid_0's auc: 0.757522\n",
      "[16]\tvalid_0's auc: 0.75732\n",
      "[17]\tvalid_0's auc: 0.755612\n",
      "[18]\tvalid_0's auc: 0.752644\n",
      "[19]\tvalid_0's auc: 0.755402\n",
      "[20]\tvalid_0's auc: 0.756556\n",
      "[21]\tvalid_0's auc: 0.757305\n",
      "[22]\tvalid_0's auc: 0.757646\n",
      "[23]\tvalid_0's auc: 0.760249\n",
      "[24]\tvalid_0's auc: 0.759273\n",
      "[25]\tvalid_0's auc: 0.762348\n",
      "[26]\tvalid_0's auc: 0.761518\n",
      "[27]\tvalid_0's auc: 0.762538\n",
      "[28]\tvalid_0's auc: 0.763935\n",
      "[29]\tvalid_0's auc: 0.765998\n",
      "[30]\tvalid_0's auc: 0.765786\n",
      "[31]\tvalid_0's auc: 0.766912\n",
      "[32]\tvalid_0's auc: 0.767811\n",
      "[33]\tvalid_0's auc: 0.76855\n",
      "[34]\tvalid_0's auc: 0.76826\n",
      "[35]\tvalid_0's auc: 0.768517\n",
      "[36]\tvalid_0's auc: 0.768494\n",
      "[37]\tvalid_0's auc: 0.768537\n",
      "[38]\tvalid_0's auc: 0.768678\n",
      "[39]\tvalid_0's auc: 0.767663\n",
      "[40]\tvalid_0's auc: 0.767421\n",
      "[41]\tvalid_0's auc: 0.766845\n",
      "[42]\tvalid_0's auc: 0.767511\n",
      "[43]\tvalid_0's auc: 0.76681\n",
      "[44]\tvalid_0's auc: 0.766696\n"
     ]
    },
    {
     "name": "stderr",
     "output_type": "stream",
     "text": [
      "/usr/local/lib/python3.9/dist-packages/lightgbm/sklearn.py:726: UserWarning: 'early_stopping_rounds' argument is deprecated and will be removed in a future release of LightGBM. Pass 'early_stopping()' callback via 'callbacks' argument instead.\n",
      "  _log_warning(\"'early_stopping_rounds' argument is deprecated and will be removed in a future release of LightGBM. \"\n",
      "/usr/local/lib/python3.9/dist-packages/lightgbm/sklearn.py:736: UserWarning: 'verbose' argument is deprecated and will be removed in a future release of LightGBM. Pass 'log_evaluation()' callback via 'callbacks' argument instead.\n",
      "  _log_warning(\"'verbose' argument is deprecated and will be removed in a future release of LightGBM. \"\n"
     ]
    },
    {
     "name": "stdout",
     "output_type": "stream",
     "text": [
      "[45]\tvalid_0's auc: 0.767135\n",
      "[46]\tvalid_0's auc: 0.767051\n",
      "[47]\tvalid_0's auc: 0.76747\n",
      "[48]\tvalid_0's auc: 0.767736\n",
      "[49]\tvalid_0's auc: 0.766787\n",
      "[50]\tvalid_0's auc: 0.766631\n",
      "[51]\tvalid_0's auc: 0.76676\n",
      "[52]\tvalid_0's auc: 0.766824\n",
      "[53]\tvalid_0's auc: 0.766884\n",
      "[54]\tvalid_0's auc: 0.766233\n",
      "[55]\tvalid_0's auc: 0.766794\n",
      "[56]\tvalid_0's auc: 0.767011\n",
      "[57]\tvalid_0's auc: 0.76637\n",
      "[58]\tvalid_0's auc: 0.766877\n",
      "[59]\tvalid_0's auc: 0.766392\n",
      "[60]\tvalid_0's auc: 0.766508\n",
      "[61]\tvalid_0's auc: 0.766128\n",
      "[62]\tvalid_0's auc: 0.765967\n",
      "[63]\tvalid_0's auc: 0.766142\n",
      "[64]\tvalid_0's auc: 0.765041\n",
      "[65]\tvalid_0's auc: 0.765132\n",
      "[66]\tvalid_0's auc: 0.765345\n",
      "[67]\tvalid_0's auc: 0.765238\n",
      "[68]\tvalid_0's auc: 0.765967\n",
      "\n",
      "Validation scores 0.7686783112664455 0.37011462889865243\n",
      "Training scores 0.8909039101060664 0.26283919985318166\n"
     ]
    },
    {
     "data": {
      "image/png": "[encoded data removed]",
      "text/plain": [
       "<Figure size 3000x2500 with 1 Axes>"
      ]
     },
     "metadata": {},
     "output_type": "display_data"
    },
    {
     "name": "stdout",
     "output_type": "stream",
     "text": [
      "0.7943635774655744 0.8998232220214464 0.03662337196513855\n"
     ]
    }
   ],
   "source": [
    "lgb_model = lgb.LGBMClassifier(objective =  'binary', \n",
    "                            metric= 'auc',\n",
    "                            boosting_type= 'gbdt')\n",
    "\n",
    "func_= func(train, target, test, lgb_model, 'lgbm', 1000)\n",
    "val_p3, test_p3, model3 = func_()"
   ]
  },
  {
   "cell_type": "code",
   "execution_count": 66,
   "metadata": {
    "executionInfo": {
     "elapsed": 3,
     "status": "ok",
     "timestamp": 1681808443617,
     "user": {
      "displayName": "felix mutai",
      "userId": "06332458957494140194"
     },
     "user_tz": -180
    },
    "id": "Ak4zXs1vkiL9"
   },
   "outputs": [],
   "source": [
    "import pickle "
   ]
  }
 ],
 "metadata": {
  "colab": {
   "authorship_tag": "ABX9TyOl3soJk+VV93crtwZaEgbg",
   "provenance": []
  },
  "kernelspec": {
   "display_name": "Python 3 (ipykernel)",
   "language": "python",
   "name": "python3"
  },
  "language_info": {
   "codemirror_mode": {
    "name": "ipython",
    "version": 3
   },
   "file_extension": ".py",
   "mimetype": "text/x-python",
   "name": "python",
   "nbconvert_exporter": "python",
   "pygments_lexer": "ipython3",
   "version": "3.9.12"
  }
 },
 "nbformat": 4,
 "nbformat_minor": 1
}
